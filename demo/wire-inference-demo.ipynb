{
 "cells": [
  {
   "cell_type": "code",
   "execution_count": 1,
   "metadata": {},
   "outputs": [],
   "source": [
    "import os\n",
    "import sys\n",
    "import numpy as np\n",
    "from collections import defaultdict, Counter\n",
    "import time\n",
    "from matplotlib import pyplot\n",
    "import json5\n",
    "from matplotlib import pyplot as pyplot\n",
    "from scipy.cluster.hierarchy import dendrogram\n",
    "import pandas\n",
    "\n",
    "import importlib\n",
    "import duhportinf\n",
    "import duhportinf._grouper\n",
    "import duhportinf._optimize\n",
    "import duhportinf._vectorizer\n",
    "import duhportinf.busdef\n",
    "import duhportinf.main_portinf as main\n",
    "from   duhportinf.busdef import BusDef\n",
    "from   duhportinf._optimize import MatchCost\n",
    "from   duhportinf import util\n",
    "\n",
    "%load_ext autoreload\n",
    "%autoreload 2"
   ]
  },
  {
   "cell_type": "code",
   "execution_count": 2,
   "metadata": {},
   "outputs": [],
   "source": [
    "block_root = '/ip-block-designs'\n",
    "bus_spec_rootdir = '/bus-defs/specs'"
   ]
  },
  {
   "cell_type": "code",
   "execution_count": 4,
   "metadata": {},
   "outputs": [],
   "source": [
    "def get_ports_from_json5(path):\n",
    "    with open(path) as fin:\n",
    "        block = json5.load(fin)\n",
    "    return util.format_ports(block['definitions']['ports'])"
   ]
  },
  {
   "cell_type": "code",
   "execution_count": 5,
   "metadata": {},
   "outputs": [],
   "source": [
    "pcie_json_path = os.path.join(\n",
    "    block_root,\n",
    "    'block-plda-pcie-controller',\n",
    "    'PLDA_ws.json5',\n",
    ")\n",
    "ddr_json_path = os.path.join(\n",
    "    block_root,\n",
    "    'block-cadence-ddr3',\n",
    "    'ddr.json5',\n",
    ")\n",
    "nvdla_json_path = os.path.join(\n",
    "    block_root,\n",
    "    'block-nvdla',\n",
    "    'nvdla.json5',\n",
    ")\n",
    "ark_json_path = os.path.join(\n",
    "    block_root,\n",
    "    'block-ark',\n",
    "    'ark.json5',\n",
    ")\n",
    "pcie_ports  = get_ports_from_json5(pcie_json_path)\n",
    "ddr_ports   = get_ports_from_json5(ddr_json_path)\n",
    "nvdla_ports = get_ports_from_json5(nvdla_json_path)\n",
    "ark_ports   = get_ports_from_json5(ark_json_path)"
   ]
  },
  {
   "cell_type": "code",
   "execution_count": 6,
   "metadata": {},
   "outputs": [],
   "source": [
    "bus_defs = duhportinf.load_bus_defs(bus_spec_rootdir)"
   ]
  },
  {
   "cell_type": "code",
   "execution_count": 25,
   "metadata": {},
   "outputs": [],
   "source": [
    "pg, Z, wn = duhportinf.get_port_grouper(pcie_ports)"
   ]
  },
  {
   "cell_type": "code",
   "execution_count": 26,
   "metadata": {},
   "outputs": [],
   "source": [
    "i_bus_pairings = main._get_bus_pairings(pg, bus_defs)"
   ]
  },
  {
   "cell_type": "code",
   "execution_count": 29,
   "metadata": {},
   "outputs": [
    {
     "name": "stdout",
     "output_type": "stream",
     "text": [
      "num selected interfaces 330\n",
      "interface size:65, prefix:tl_\n",
      "interface size:57, prefix:\n",
      "interface size:52, prefix:p\n",
      "interface size:51, prefix:pl_\n",
      "interface size:49, prefix:axi4_sto\n",
      "interface size:49, prefix:axi4_mstd_\n",
      "interface size:49, prefix:axi4_mst3_\n",
      "interface size:49, prefix:axi4_mst2_\n",
      "interface size:49, prefix:axi4_mst0_\n",
      "interface size:49, prefix:axi4_mst1_\n",
      "interface size:48, prefix:axi4_sto\n",
      "interface size:48, prefix:axi4_slv3_\n",
      "interface size:48, prefix:axi4_slv2_\n",
      "interface size:48, prefix:axi4_slv0_\n",
      "interface size:48, prefix:axi4_slv1_\n",
      "interface size:48, prefix:axi4_mstd_\n",
      "interface size:48, prefix:axi4_mst3_\n",
      "interface size:48, prefix:axi4_mst2_\n",
      "interface size:48, prefix:axi4_mst0_\n",
      "interface size:48, prefix:axi4_mst1_\n",
      "interface size:47, prefix:axi4_slv3_\n",
      "interface size:47, prefix:axi4_slv2_\n",
      "interface size:47, prefix:axi4_slv0_\n",
      "interface size:47, prefix:axi4_slv1_\n",
      "interface size:47, prefix:axi4_mstd_\n",
      "interface size:47, prefix:axi4_mst3_\n",
      "interface size:47, prefix:axi4_mst2_\n",
      "interface size:47, prefix:axi4_mst0_\n",
      "interface size:47, prefix:axi4_mst1_\n",
      "interface size:46, prefix:axi4_slv3_\n",
      "interface size:46, prefix:axi4_slv2_\n",
      "interface size:46, prefix:axi4_slv0_\n",
      "interface size:46, prefix:axi4_slv1_\n",
      "interface size:46, prefix:axi4_mstd_\n",
      "interface size:46, prefix:axi4_mst3_\n",
      "interface size:46, prefix:axi4_mst2_\n",
      "interface size:46, prefix:axi4_mst0_\n",
      "interface size:46, prefix:axi4_mst1_\n",
      "interface size:45, prefix:axi4_mstd_\n",
      "interface size:45, prefix:axi4_mst3_\n",
      "interface size:45, prefix:axi4_mst2_\n",
      "interface size:45, prefix:axi4_mst0_\n",
      "interface size:45, prefix:axi4_mst1_\n",
      "interface size:44, prefix:axi4_mstd_\n",
      "interface size:44, prefix:axi4_mst3_\n",
      "interface size:44, prefix:axi4_mst2_\n",
      "interface size:44, prefix:axi4_mst0_\n",
      "interface size:44, prefix:axi4_mst1_\n",
      "interface size:44, prefix:pl_\n",
      "interface size:41, prefix:axi4_mstd_\n",
      "interface size:41, prefix:axi4_mst3_\n",
      "interface size:41, prefix:axi4_mst2_\n",
      "interface size:41, prefix:axi4_mst0_\n",
      "interface size:41, prefix:axi4_mst1_\n",
      "interface size:40, prefix:axi4_mstd_\n",
      "interface size:40, prefix:axi4_mst3_\n",
      "interface size:40, prefix:axi4_mst2_\n",
      "interface size:40, prefix:axi4_mst0_\n",
      "interface size:40, prefix:axi4_mst1_\n",
      "interface size:40, prefix:ptx_\n",
      "interface size:39, prefix:axi4_mstd_\n",
      "interface size:39, prefix:axi4_mst3_\n",
      "interface size:39, prefix:axi4_mst2_\n",
      "interface size:39, prefix:axi4_mst0_\n",
      "interface size:39, prefix:axi4_mst1_\n",
      "interface size:38, prefix:axi4_mstd_\n",
      "interface size:38, prefix:axi4_mst3_\n",
      "interface size:38, prefix:axi4_mst2_\n",
      "interface size:38, prefix:axi4_mst0_\n",
      "interface size:38, prefix:axi4_mst1_\n",
      "interface size:37, prefix:axi4_mstd_\n",
      "interface size:37, prefix:axi4_mst3_\n",
      "interface size:37, prefix:axi4_mst2_\n",
      "interface size:37, prefix:axi4_mst0_\n",
      "interface size:37, prefix:axi4_mst1_\n",
      "interface size:36, prefix:axi4_mstd_\n",
      "interface size:36, prefix:axi4_mst3_\n",
      "interface size:36, prefix:axi4_mst2_\n",
      "interface size:36, prefix:axi4_mst0_\n",
      "interface size:36, prefix:axi4_mst1_\n",
      "interface size:36, prefix:tl_int_\n",
      "interface size:35, prefix:axi4_mstd_\n",
      "interface size:35, prefix:axi4_mst3_\n",
      "interface size:35, prefix:axi4_mst2_\n",
      "interface size:35, prefix:axi4_mst0_\n",
      "interface size:35, prefix:axi4_mst1_\n",
      "interface size:34, prefix:axi4_mstd_\n",
      "interface size:34, prefix:axi4_mst3_\n",
      "interface size:34, prefix:axi4_mst2_\n",
      "interface size:34, prefix:axi4_mst0_\n",
      "interface size:34, prefix:axi4_mst1_\n",
      "interface size:33, prefix:axi4_mstd_\n",
      "interface size:33, prefix:axi4_mst3_\n",
      "interface size:33, prefix:axi4_mst2_\n",
      "interface size:33, prefix:axi4_mst0_\n",
      "interface size:33, prefix:axi4_mst1_\n",
      "interface size:33, prefix:local_\n",
      "interface size:32, prefix:axi4_mstd_\n",
      "interface size:32, prefix:axi4_mst3_\n",
      "interface size:32, prefix:axi4_mst2_\n"
     ]
    }
   ],
   "source": [
    "interfaces = list(sorted(\n",
    "    [interface for nid, l_fcost, interface, bds in i_bus_pairings],\n",
    "    reverse=True,\n",
    "    key=lambda i: i.size,\n",
    "))\n",
    "print('num selected interfaces', len(interfaces))\n",
    "for interface in interfaces[:100]:\n",
    "    print('interface size:{}, prefix:{}'.format(interface.size, interface.prefix))\n",
    "\n"
   ]
  },
  {
   "cell_type": "code",
   "execution_count": 7,
   "metadata": {},
   "outputs": [],
   "source": [
    "pg, Z, wn = duhportinf.get_port_grouper(nvdla_ports)"
   ]
  },
  {
   "cell_type": "code",
   "execution_count": 20,
   "metadata": {},
   "outputs": [],
   "source": [
    "def get_fcost2_bus_defs(interface, bus_defs):\n",
    "    return list(sorted([\n",
    "        (duhportinf._optimize._get_name_fcost2(interface, bd), bd)\n",
    "        for bd in bus_defs\n",
    "        ],\n",
    "        reverse=True,\n",
    "        key=lambda x: x[0],\n",
    "    ))"
   ]
  },
  {
   "cell_type": "code",
   "execution_count": 24,
   "metadata": {},
   "outputs": [
    {
     "name": "stdout",
     "output_type": "stream",
     "text": [
      "interface size:50, prefix:nvdla_core2\n",
      "  - lfcost: 77.70(n:30.85;w:16;d:0)\n",
      "  - driver_type:master, abstract_type:{'vendor': 'amba.com', 'library': 'AMBA4', 'name': 'ACE_rtl', 'version': 'r0p0_0'}\n",
      "  - token membership: 0.627906976744186\n",
      "  - driver_type:master, abstract_type:{'vendor': 'sifive.com', 'library': 'MEM', 'name': 'SPRAM_rtl', 'version': '0.1.0'}\n",
      "interface size:25, prefix:nvdla_core2dbb_\n",
      "  - lfcost: 29.99(n:10.50;w:9;d:0)\n",
      "  - driver_type:master, abstract_type:{'vendor': 'amba.com', 'library': 'AMBA3', 'name': 'AXI_rtl', 'version': 'r2p0_0'}\n",
      "  - token membership: 0.6050420168067226\n",
      "  - driver_type:master, abstract_type:{'vendor': 'amba.com', 'library': 'AMBA4', 'name': 'AXI4-Lite_rtl', 'version': 'r0p0_0'}\n",
      "interface size:6, prefix:nvdla_core2dbb_ar_ar\n",
      "  - lfcost: 13.30(n:4.65;w:4;d:0)\n",
      "  - driver_type:master, abstract_type:{'vendor': 'amba.com', 'library': 'AMBA3', 'name': 'ATB_rtl', 'version': 'r2p0_0'}\n",
      "  - token membership: 0.37333333333333335\n",
      "  - driver_type:master, abstract_type:{'vendor': 'amba.com', 'library': 'AMBA4', 'name': 'AXI4_RO_rtl', 'version': 'r0p0_0'}\n",
      "interface size:61, prefix:\n",
      "  - lfcost: 121.58(n:37.79;w:26;d:5)\n",
      "  - driver_type:master, abstract_type:{'vendor': 'amba.com', 'library': 'AMBA4', 'name': 'ACE_rtl', 'version': 'r0p0_0'}\n",
      "  - token membership: 0.7714285714285715\n",
      "  - driver_type:master, abstract_type:{'vendor': 'sifive.com', 'library': 'EXTREG', 'name': 'EXTREG_rtl', 'version': '0.1.0'}\n"
     ]
    }
   ],
   "source": [
    "dport = (\"nvdla_core2dbb_ar_arready\", 1, 1)\n",
    "for nid, interface in pg.get_initial_interfaces():\n",
    "    if dport in interface.ports:\n",
    "        i_bus_defs = main._get_lfcost_bus_defs(interface, list(bus_defs))[:5]\n",
    "        i_bus_defs_2 = get_fcost2_bus_defs(interface, list(bus_defs))[:5]\n",
    "        lfcost, lbd = next(iter(i_bus_defs))\n",
    "        lfcost2, lbd2 = next(iter(i_bus_defs_2))\n",
    "        print('interface size:{}, prefix:{}'.format(interface.size, interface.prefix))\n",
    "        print('  - lfcost:', lfcost)\n",
    "        print('  - driver_type:{}, abstract_type:{}'.format(\n",
    "            lbd.driver_type,\n",
    "            lbd.abstract_type,\n",
    "        ))\n",
    "        print('  - token membership:', lfcost2)\n",
    "        print('  - driver_type:{}, abstract_type:{}'.format(\n",
    "            lbd2.driver_type,\n",
    "            lbd2.abstract_type,\n",
    "        ))\n",
    "    "
   ]
  },
  {
   "cell_type": "code",
   "execution_count": null,
   "metadata": {},
   "outputs": [],
   "source": [
    "df = pandas.DataFrame(Z)\n",
    "df = df.astype({0:int, 1:int, 3:int})\n",
    "df.to_csv('linkage-tree.csv', header=False, index=False)\n",
    "df = pandas.DataFrame(wire_names)\n",
    "df.to_csv('wire-names.csv', header=False, index=False)\n",
    "df.head()"
   ]
  },
  {
   "cell_type": "code",
   "execution_count": null,
   "metadata": {},
   "outputs": [],
   "source": [
    "def debug(ports, dport, bus_abstract_names):\n",
    "    # filter to get debug bus defs\n",
    "    bus_abstract_names = set(bus_abstract_names)\n",
    "    dbus_defs = list(filter(\n",
    "        lambda bd: bd.abstract_type.name in bus_abstract_names,\n",
    "        bus_defs,\n",
    "    ))\n",
    "    \n",
    "    pg, Z, wire_names = duhportinf._grouper.get_port_grouper(ports)\n",
    "    pg_bus_pairings = duhportinf.main._get_bus_pairings(pg, dbus_defs)\n",
    "    # filter only for port_group with dport\n",
    "    pg_bus_pairings = list(filter(\n",
    "        lambda x: dport in x[2],\n",
    "        pg_bus_pairings,\n",
    "    ))\n",
    "    pg_bus_mappings = duhportinf.main._get_initial_bus_matches(pg, pg_bus_pairings)\n",
    "    return list(map(lambda x: x[2:], pg_bus_mappings))\n",
    "    "
   ]
  },
  {
   "cell_type": "code",
   "execution_count": null,
   "metadata": {},
   "outputs": [],
   "source": [
    "port_path = '/ip-block-designs/tmp/tmp.json5' \n",
    "ports = duhportinf.get_ports_from_json5(port_path)\n",
    "dport = ('front_port_axi4_0_ar_ready', 1, -1)\n",
    "pg_bus_mappings = debug(ports, dport, ['AXI4_rtl'])"
   ]
  },
  {
   "cell_type": "code",
   "execution_count": 195,
   "metadata": {},
   "outputs": [
    {
     "name": "stdout",
     "output_type": "stream",
     "text": [
      "total time: 2.5000040531158447s               \n"
     ]
    }
   ],
   "source": [
    "stime = time.time()\n",
    "\n",
    "nvdla_pg_bus_mappings = duhportinf.get_bus_matches(nvdla_ports, list(bus_defs))\n",
    "etime = time.time()\n",
    "print('total time: {}s'.format(etime-stime))"
   ]
  },
  {
   "cell_type": "code",
   "execution_count": 205,
   "metadata": {},
   "outputs": [],
   "source": [
    "util.dump_json_bus_candidates('testy.json', nvdla_json_path, nvdla_pg_bus_mappings)"
   ]
  },
  {
   "cell_type": "code",
   "execution_count": null,
   "metadata": {},
   "outputs": [],
   "source": [
    "stime = time.time()\n",
    "\n",
    "ddr_pg_bus_mappings = duhportinf.get_bus_matches(ddr_ports, list(bus_defs))\n",
    "\n",
    "etime = time.time()\n",
    "print('total time: {}s'.format(etime-stime))"
   ]
  },
  {
   "cell_type": "code",
   "execution_count": 46,
   "metadata": {
    "scrolled": true
   },
   "outputs": [
    {
     "name": "stdout",
     "output_type": "stream",
     "text": [
      "hierarchically clustering ports and selecting port groups\n",
      "  - done\n",
      "initial bus pairing with port groups\n",
      "  - done\n",
      "bus mapping\n",
      "  - done                                                                         \n",
      "total time: 13.784493684768677s\n"
     ]
    }
   ],
   "source": [
    "s_pcie_ports = list(filter(lambda p: 'axi4' not in p[0], pcie_ports))\n",
    "stime = time.time()\n",
    "pcie_pg_bus_mappings = duhportinf.get_bus_matches(s_pcie_ports, list(bus_defs))\n",
    "\n",
    "etime = time.time()\n",
    "print('total time: {}s'.format(etime-stime))"
   ]
  },
  {
   "cell_type": "code",
   "execution_count": 51,
   "metadata": {},
   "outputs": [
    {
     "name": "stdout",
     "output_type": "stream",
     "text": [
      "port group\n",
      "  -  ('pl_rxdata', None, 1)\n",
      "  -  ('pl_rxstatus', None, 1)\n",
      "  -  ('pl_phystatus', None, 1)\n",
      "  -  ('pl_rxstandby', None, -1)\n",
      "  -  ('pl_rxpolarity', None, -1)\n",
      "  -  ('pl_txcompliance', None, -1)\n",
      "  -  ('pl_txelecidle', None, -1)\n",
      "  -  ('pl_txsyncheader', None, -1)\n",
      "  -  ('pl_txstartblock', None, -1)\n",
      "  -  ('pl_txdatavalid', None, -1)\n",
      "  -  ('pl_txdatak', None, -1)\n",
      "  -  ('pl_txdata', None, -1)\n",
      "  -  ('pl_txdetectrx', None, -1)\n",
      "  -  ('pl_pll_rate', 3, -1)\n",
      "  -  ('pl_pll_ack', 1, 1)\n",
      "  -  ('pl_width', 2, -1)\n",
      "  -  ('pl_ltssm', 5, -1)\n",
      "  -  ('pl_blockaligncontrol', 1, -1)\n",
      "  -  ('pl_txdeemph', 1, -1)\n",
      "  -  ('pl_txswing', 1, -1)\n",
      "  -  ('pl_txmargin', 3, -1)\n",
      "  -  ('pl_rate', 2, -1)\n",
      "  -  ('pl_powerdown', 2, -1)\n",
      "  -  ('pl_spor', 1, 1)\n",
      "  -  ('pl_npor', 1, 1)\n",
      "  -  ('pl_srst', 1, 1)\n",
      "  -  ('pl_rstnp', 1, 1)\n",
      "  -  ('pl_rstn', 1, 1)\n",
      "  -  ('pl_rstn_srst_out', 1, -1)\n",
      "  -  ('pl_pclk_change_ok', None, 1)\n",
      "  -  ('pl_pclk_change_ack', None, -1)\n",
      "  -  ('pl_pclk', 1, 1)\n",
      "  -  ('pl_pclk_rate', 3, -1)\n",
      "bus mappings\n",
      "  - cost:121.01(n:0.50;w:36;d:21) bus_def:{'vendor': 'amba.com', 'library': 'AMBA4', 'name': 'AXI4_rtl', 'version': 'r0p0_0'}\n",
      "  - cost:132.87(n:0.43;w:36;d:24) bus_def:{'vendor': 'amba.com', 'library': 'AMBA4', 'name': 'ACE-Lite_rtl', 'version': 'r0p0_0'}\n",
      "  - cost:132.87(n:0.43;w:36;d:24) bus_def:{'vendor': 'amba.com', 'library': 'AMBA4', 'name': 'ACP_rtl', 'version': 'r0p0_0'}\n",
      "  - cost:135.05(n:0.03;w:35;d:25) bus_def:{'vendor': 'intel.com', 'library': 'PHY', 'name': 'PIPE_rtl', 'version': '4.4.0'}\n",
      "  - cost:144.06(n:0.53;w:39;d:26) bus_def:{'vendor': 'amba.com', 'library': 'AMBA4', 'name': 'ACE_rtl', 'version': 'r0p0_0'}\n"
     ]
    }
   ],
   "source": [
    "dport = ('pl_pll_ack', 1, 1)\n",
    "for interface, bus_mappings in pcie_pg_bus_mappings:\n",
    "    if dport in interface.ports:\n",
    "        print('port group')\n",
    "        for port in interface.ports:\n",
    "            print('  - ', port)\n",
    "        print('bus mappings')\n",
    "        for bm in bus_mappings:\n",
    "            print('  - cost:{} bus_def:{}'.format(\n",
    "                bm.cost,\n",
    "                str(bm.bus_def.abstract_type),\n",
    "            ))"
   ]
  },
  {
   "cell_type": "code",
   "execution_count": null,
   "metadata": {
    "scrolled": true
   },
   "outputs": [],
   "source": [
    "def dump_nonaxi_dendogram(path, ports):\n",
    "    assert path.endswith('.pdf')\n",
    "    nonaxi_ports = list(filter(\n",
    "        lambda p: not p[0].startswith('axi'),\n",
    "        ports,\n",
    "    ))\n",
    "    _, Z, wire_names = abxportinf.get_port_grouper(nonaxi_ports)\n",
    "    fig, ax = pyplot.subplots(1,1, figsize=(10,40))\n",
    "    _ = dendrogram(\n",
    "        Z,\n",
    "        ax=ax,\n",
    "        orientation='left',\n",
    "        labels=wire_names,\n",
    "    )\n",
    "    pyplot.savefig(path)\n"
   ]
  },
  {
   "cell_type": "code",
   "execution_count": null,
   "metadata": {},
   "outputs": [],
   "source": [
    "dump_nonaxi_dendogram('ddr-nonaxi-dendogram.pdf', ddr_ports)\n",
    "dump_nonaxi_dendogram('pcie-nonaxi-dendogram.pdf', pcie_ports)"
   ]
  },
  {
   "cell_type": "code",
   "execution_count": null,
   "metadata": {},
   "outputs": [],
   "source": [
    "util.dump_json_bus_candidates('ddr-busprop.json', ddr_pg_bus_mappings)\n",
    "util.dump_json_bus_candidates('pcie-busprop.json', pcie_pg_bus_mappings)"
   ]
  }
 ],
 "metadata": {
  "kernelspec": {
   "display_name": "Python 3",
   "language": "python",
   "name": "python3"
  },
  "language_info": {
   "codemirror_mode": {
    "name": "ipython",
    "version": 3
   },
   "file_extension": ".py",
   "mimetype": "text/x-python",
   "name": "python",
   "nbconvert_exporter": "python",
   "pygments_lexer": "ipython3",
   "version": "3.6.7"
  }
 },
 "nbformat": 4,
 "nbformat_minor": 2
}
