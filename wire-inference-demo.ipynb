{
 "cells": [
  {
   "cell_type": "code",
   "execution_count": 273,
   "metadata": {},
   "outputs": [],
   "source": [
    "import os\n",
    "import sys\n",
    "from collections import defaultdict\n",
    "\n",
    "import importlib\n",
    "import abxportinf\n",
    "import abxportinf._grouper\n",
    "import abxportinf._optimize\n",
    "import abxportinf._vectorizer\n",
    "import abxportinf.busdef\n",
    "import abxportinf.main \n",
    "import abxportinf.util\n",
    "from abxportinf.busdef import BusDef\n",
    "\n",
    "modules = [\n",
    "    '_grouper',\n",
    "    '_optimize',\n",
    "    '_vectorizer',\n",
    "    'busdef',\n",
    "    'main', \n",
    "    'util',\n",
    "]\n",
    "importlib.reload(abxportinf)\n",
    "for mod in modules:\n",
    "    importlib.reload(getattr(abxportinf, mod))\n"
   ]
  },
  {
   "cell_type": "code",
   "execution_count": 92,
   "metadata": {},
   "outputs": [
    {
     "name": "stdout",
     "output_type": "stream",
     "text": [
      "Warning ('regHADDR', 'PAR_REG_ADDR_WIDTH + 2') not correctly parsed\n",
      "Warning ('phy_reg_addr', '-(PAR_REG_ADDR_WIDTH)') not correctly parsed\n",
      "296\n"
     ]
    }
   ],
   "source": [
    "block_root = '/ddr'\n",
    "comp_json_path = os.path.join(block_root, 'ddr.json5')\n",
    "ports = abxportinf.get_ports_from_json5(comp_json_path)\n",
    "#abxportinf.get_bus_matches(None, None)\n",
    "#abxportinf.get_bus_defs(None)"
   ]
  },
  {
   "cell_type": "code",
   "execution_count": 136,
   "metadata": {},
   "outputs": [],
   "source": [
    "pg, Z, wire_names = abxportinf._grouper.get_port_grouper(ports)\n",
    "\n",
    "#port = ports[34]\n",
    "#for i, group in enumerate(pg.get_port_groups(port)):\n",
    "#    print('group {}, size: {}'.format(i, len(group)))                                                                                                                                                                                   \n",
    "#    for wire in group:                                \n",
    "#        print('  - ', wire)                           \n",
    "         \n",
    "phy = [   \n",
    "    ('ready1', 1, 1),\n",
    "    ('ready2', 1, 1),\n",
    "    ('ready3', 1, 1),\n",
    "    #('xxxx', 1, 1),            \n",
    "    #('yyyx', 1, 1),                        \n",
    "]\n",
    "bus = [            \n",
    "    ('rdy3', 1, 1),                                   \n",
    "    ('rdy1', 1, 1),\n",
    "    ('rdy2', 1, 1),                    \n",
    "]                                             \n",
    "mapping = abxportinf._optimize.map_port_sets(phy, bus)\n",
    "           \n",
    "assn_ports = set()\n",
    "                       \n",
    "bus_def = [           \n",
    "    ('dfi_wrlvl_strobe', 9, -1),\n",
    "    ('dfi_wrlvl_en', 1, 1),\n",
    "    ('dfi_wrlvl_resp', 1, 1),\n",
    "]               \n",
    "for ii, port in enumerate(ports):\n",
    "    # only assign ports to a single bus definition\n",
    "    if port in assn_ports: \n",
    "        continue\n",
    "    mappings = []\n",
    "    #print('root port', port)\n",
    "    ccost = None\n",
    "    for i, port_group in enumerate(pg.get_port_groups(port)):\n",
    "        mapping, cost = abxportinf._optimize.map_port_sets(port_group, bus_def)\n",
    "        mappings.append((cost, port_group, mapping))\n",
    "        #print('{} size of port group {}, cost {}'.format(i, len(port_group), cost))\n",
    "        if ccost and cost > ccost:\n",
    "            break\n",
    "        ccost = cost\n",
    "    cost, cport_group, cmapping = min(mappings)\n",
    "    assn_ports |= set(cport_group)\n",
    "    "
   ]
  },
  {
   "cell_type": "code",
   "execution_count": 169,
   "metadata": {},
   "outputs": [
    {
     "name": "stdout",
     "output_type": "stream",
     "text": [
      "loading bus defs from specs\n",
      "  - loading  /bus-defs/specs/amba.com/AMBA2/AHB/r3p0_1/AHB_rtl.json5\n",
      "  - loading  /bus-defs/specs/amba.com/AMBA5/AHB5Target/r0p0_0/AHB5Target_rtl.json5\n",
      "  - loading  /bus-defs/specs/amba.com/AMBA5/AHB5Initiator/r0p0_0/AHB5Initiator_rtl.json5\n",
      "  - loading  /bus-defs/specs/amba.com/AMBA4/AXI4Stream/r0p0_1/AXI4Stream_rtl.json5\n",
      "  - loading  /bus-defs/specs/amba.com/AMBA4/AXI4/r0p0_0/AXI4_rtl.json5\n",
      "  - loading  /bus-defs/specs/amba.com/AMBA4/AXI4/r0p0_0/AXI4_RO_rtl.json5\n",
      "  - loading  /bus-defs/specs/amba.com/AMBA4/ACE-Lite/r0p0_0/ACE-Lite_rtl.json5\n",
      "  - loading  /bus-defs/specs/amba.com/AMBA4/APB4/r0p0_0/APB4_rtl.json5\n",
      "  - loading  /bus-defs/specs/amba.com/AMBA4/ATB/r0p0_0/ATB_rtl.json5\n",
      "  - loading  /bus-defs/specs/amba.com/AMBA4/ACP/r0p0_0/ACP_rtl.json5\n",
      "  - loading  /bus-defs/specs/amba.com/AMBA4/ACE/r0p0_0/ACE_rtl.json5\n",
      "  - loading  /bus-defs/specs/amba.com/AMBA3/AHBLite/r2p0_0/AHBLite_rtl.json5\n",
      "  - loading  /bus-defs/specs/amba.com/AMBA3/APB/r2p0_0/APB_rtl.json5\n",
      "  - loading  /bus-defs/specs/amba.com/AMBA3/AHBLiteTarget/r2p0_0/AHBLiteTarget_rtl.json5\n",
      "  - loading  /bus-defs/specs/amba.com/AMBA3/ATB/r2p0_0/ATB_rtl.json5\n",
      "  - loading  /bus-defs/specs/amba.com/AMBA3/AXI/r2p0_0/AXI_rtl.json5\n",
      "  - loading  /bus-defs/specs/amba.com/AMBA3/AHBLiteInitiator/r2p0_0/AHBLiteInitiator_rtl.json5\n",
      "  - loading  /bus-defs/specs/amba.com/AMBA3/LPI/r2p0_0/LPI_rtl.json5\n",
      "  - loading  /bus-defs/specs/amba.com/AMBA3/LPI/r3p0_0/LPI_rtl.json5\n",
      "  - loading  /bus-defs/specs/amba.com/AMBA3/LPI/r2p1_0/LPI_rtl.json5\n",
      "  - done\n",
      "loaded 34 bus definitions from specs\n",
      "  - total req ports 395\n",
      "  - total opt ports 537\n"
     ]
    }
   ],
   "source": [
    "bus_spec_rootdir = '/bus-defs/specs'\n",
    "                                \n",
    "print('loading bus defs from specs')\n",
    "bus_defs = []                \n",
    "for root, dirs, fnames in os.walk(bus_spec_rootdir):\n",
    "    #print((root, dirs, files))  \n",
    "    for fname in fnames:             \n",
    "        spec_path = os.path.join(root, fname)\n",
    "        if BusDef.is_spec_bus_def(spec_path):     \n",
    "            print('  - loading ', spec_path)\n",
    "            bus_defs.extend(\n",
    "                BusDef.bus_defs_from_spec(spec_path)\n",
    "            )                \n",
    "print('  - done')                                            \n",
    "print('loaded {} bus definitions from specs'.format(len(bus_defs)))\n",
    "print('  - total req ports', sum([bd.num_req_ports for bd in bus_defs]))\n",
    "print('  - total opt ports', sum([bd.num_opt_ports for bd in bus_defs]))\n",
    "\n",
    "spec_path = '/bus-defs/specs/amba.com/AMBA4/AXI4/r0p0_0/AXI4_rtl.json5'\n",
    "bus_defs = BusDef.bus_defs_from_spec(spec_path)"
   ]
  },
  {
   "cell_type": "code",
   "execution_count": 275,
   "metadata": {},
   "outputs": [
    {
     "name": "stdout",
     "output_type": "stream",
     "text": [
      "{('axi0_WLAST', 1, 1): ('WLAST', 1, 1), ('axi0_AWQOS', 1, 1): ('AWQOS', 4, 1), ('axi0_ARQOS', 1, 1): ('ARQOS', 4, 1), ('axi0_AWLEN', 8, 1): ('AWLEN', 8, 1), ('axi0_AWSIZE', 3, 1): ('AWSIZE', 3, 1), ('axi0_WDATA', 256, 1): ('WDATA', None, 1), ('axi0_AWAPCMD', 1, 1): ('ARLOCK', 1, 1), ('axi0_AWCOBUF', 1, 1): ('ARLOCK', 1, 1), ('axi0_AWADDR', 37, 1): ('AWADDR', None, 1), ('axi0_AWBURST', 2, 1): ('ARBURST', 2, 1), ('axi0_WSTRB', 32, 1): ('WSTRB', None, 1), ('axi0_AWVALID', 1, 1): ('ARVALID', 1, 1), ('axi0_WVALID', 1, 1): ('WVALID', 1, 1), ('axi0_ARESETn', 1, 1): ('ARESETn', 1, -1), ('axi0_AWPROT', 2, 1): ('ARBURST', 2, 1), ('axi0_AWID', 12, 1): ('AWID', None, 1), ('axi0_AWLOCK', 1, 1): ('AWLOCK', 1, 1), ('axi0_ACLK', 1, 1): ('ACLK', 1, -1), ('axi0_BREADY', 1, 1): ('BREADY', 1, 1), ('axi0_AWALLSTRB', 1, 1): ('RREADY', 1, 1), ('axi0_AWREGION', 2, 1): ('AWREGION', 4, 1)}\n"
     ]
    }
   ],
   "source": [
    "bus_mappings = abxportinf.get_bus_matches(ports, bus_defs)\n",
    "cost, bus_def, bus_mapping = min(bus_mappings)\n",
    "print(bus_mapping)"
   ]
  }
 ],
 "metadata": {
  "kernelspec": {
   "display_name": "Python 3",
   "language": "python",
   "name": "python3"
  },
  "language_info": {
   "codemirror_mode": {
    "name": "ipython",
    "version": 3
   },
   "file_extension": ".py",
   "mimetype": "text/x-python",
   "name": "python",
   "nbconvert_exporter": "python",
   "pygments_lexer": "ipython3",
   "version": "3.6.7"
  }
 },
 "nbformat": 4,
 "nbformat_minor": 2
}
