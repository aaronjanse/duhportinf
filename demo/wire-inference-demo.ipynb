{
 "cells": [
  {
   "cell_type": "code",
   "execution_count": 36,
   "metadata": {},
   "outputs": [
    {
     "name": "stdout",
     "output_type": "stream",
     "text": [
      "The autoreload extension is already loaded. To reload it, use:\n",
      "  %reload_ext autoreload\n"
     ]
    }
   ],
   "source": [
    "import os\n",
    "import sys\n",
    "import numpy as np\n",
    "from collections import defaultdict, Counter\n",
    "import time\n",
    "from matplotlib import pyplot\n",
    "import json5\n",
    "from matplotlib import pyplot as pyplot\n",
    "from scipy.cluster.hierarchy import dendrogram\n",
    "import pandas\n",
    "\n",
    "import importlib\n",
    "import duhportinf\n",
    "import duhportinf._grouper\n",
    "import duhportinf._optimize\n",
    "import duhportinf._vectorizer\n",
    "import duhportinf.busdef\n",
    "import duhportinf.main \n",
    "from   duhportinf.busdef import BusDef\n",
    "from   duhportinf._optimize import MatchCost\n",
    "from   duhportinf import util\n",
    "\n",
    "%load_ext autoreload\n",
    "%autoreload 2"
   ]
  },
  {
   "cell_type": "code",
   "execution_count": 191,
   "metadata": {},
   "outputs": [],
   "source": [
    "from collections import deque\n",
    "import copy\n",
    "import json\n",
    "\n",
    "def update(d, u):\n",
    "    for k, v in u.items():\n",
    "        if isinstance(v, collections.Mapping):\n",
    "            # special case when string is already inserted\n",
    "            if k in d and isinstance(d[k], str):\n",
    "                d[k] = {'_':d[k]}\n",
    "            d[k] = update(d.get(k, {}), v)\n",
    "        else:\n",
    "            d[k] = v\n",
    "    return d\n",
    "\n",
    "class Bundle(object):\n",
    "    \n",
    "    @property\n",
    "    def tree(self):\n",
    "        return copy.deepcopy(self._tree)\n",
    "    \n",
    "    def __init__(self, names):\n",
    "        self._tree = {}\n",
    "        for name in names:\n",
    "            update(self._tree, self.subtree_from_name(name))\n",
    "        self._format_vectors()\n",
    "        \n",
    "    def subtree_from_name(self, name):\n",
    "        \"\"\"\n",
    "        convert name to subtree to be inserted\n",
    "        \"\"\"\n",
    "        words = util.words_from_name(name)\n",
    "        # leaf should map to port name\n",
    "        tree_dict = {words[-1] : name}\n",
    "        for w in reversed(words[:-1]):\n",
    "            tree_dict = {w: tree_dict}\n",
    "        return tree_dict\n",
    "    \n",
    "    def _format_vectors(self):\n",
    "        \"\"\"\n",
    "        format vectors of the tree in place\n",
    "        \"\"\"\n",
    "        stack = deque([(None, None, self._tree)])\n",
    "        while len(stack) > 0:\n",
    "            parent, pkey, curr = stack.popleft()\n",
    "            if self.is_vector(curr):\n",
    "                vector = [p for i, p in \n",
    "                    sorted([(idx, self.deref_singleton_path(stree)) for idx, stree in curr.items()])\n",
    "                ]\n",
    "                parent[pkey] = vector\n",
    "            else:\n",
    "                for k, child in curr.items():\n",
    "                    if not self.is_leaf(child):\n",
    "                        stack.appendleft((curr, k, child))\n",
    "\n",
    "    def is_vector(self, stree):\n",
    "        return (\n",
    "            not self.is_leaf(stree) and\n",
    "            all([self.is_singleton_path(ss) for ss in stree.values()]) and\n",
    "            self.is_range(stree.keys())\n",
    "        )\n",
    "       \n",
    "    def is_range(self, keys):\n",
    "        if not all([k.isdigit() for k in keys]):\n",
    "            return False\n",
    "        idx = [int(k) for k in keys]\n",
    "        return util.is_range(idx)\n",
    "    \n",
    "    def is_leaf(self, stree):\n",
    "        # vector or string\n",
    "        return type(stree) in [list, str]\n",
    "    \n",
    "    def deref_singleton_path(self, stree):\n",
    "        if self.is_leaf(stree):\n",
    "            return stree\n",
    "        else:\n",
    "            assert len(stree) == 1\n",
    "            sstree = next(iter(stree.values()))\n",
    "            return self.deref_singleton_path(sstree)\n",
    "        \n",
    "    def is_singleton_path(self, stree):\n",
    "        if self.is_leaf(stree):\n",
    "            return True\n",
    "        elif len(stree) > 1:\n",
    "            return False\n",
    "        else:\n",
    "            sstree = next(iter(stree.values()))\n",
    "            return self.is_singleton_path(sstree)\n",
    "        "
   ]
  },
  {
   "cell_type": "code",
   "execution_count": 192,
   "metadata": {},
   "outputs": [
    {
     "name": "stdout",
     "output_type": "stream",
     "text": [
      "{\n",
      "  \"foo\": {\n",
      "    \"_\": \"foo\",\n",
      "    \"bar\": [\n",
      "      \"foo_bar1\",\n",
      "      \"foo_bar2\"\n",
      "    ],\n",
      "    \"baz\": [\n",
      "      \"foo_baz1_n\",\n",
      "      \"foo_baz2_n\"\n",
      "    ]\n",
      "  }\n",
      "}\n"
     ]
    }
   ],
   "source": [
    "names = [\n",
    "    'foo',\n",
    "    'foo_bar1',\n",
    "    'foo_bar2',\n",
    "    'foo_baz1_n',\n",
    "    'foo_baz2_n',\n",
    "] \n",
    "b = Bundle(names)\n",
    "print(json.dumps(b.tree, indent=2))"
   ]
  },
  {
   "cell_type": "code",
   "execution_count": 37,
   "metadata": {},
   "outputs": [],
   "source": [
    "block_root = '/ip-block-designs'\n",
    "bus_spec_rootdir = '/bus-defs/specs'"
   ]
  },
  {
   "cell_type": "code",
   "execution_count": 38,
   "metadata": {},
   "outputs": [],
   "source": [
    "def get_ports_from_json5(path):\n",
    "    with open(path) as fin:\n",
    "        block = json5.load(fin)\n",
    "    return util.format_ports(block['definitions']['ports'])"
   ]
  },
  {
   "cell_type": "code",
   "execution_count": 39,
   "metadata": {},
   "outputs": [],
   "source": [
    "pcie_json_path = os.path.join(\n",
    "    block_root,\n",
    "    'block-plda-pcie-controller',\n",
    "    'PLDA_ws.json5',\n",
    ")\n",
    "ddr_json_path = os.path.join(\n",
    "    block_root,\n",
    "    'block-cadence-ddr3',\n",
    "    'ddr.json5',\n",
    ")\n",
    "nvdla_json_path = os.path.join(\n",
    "    block_root,\n",
    "    'block-nvdla',\n",
    "    'nvdla.json5',\n",
    ")\n",
    "pcie_ports  = get_ports_from_json5(pcie_json_path)\n",
    "ddr_ports   = get_ports_from_json5(ddr_json_path)\n",
    "nvdla_ports = get_ports_from_json5(nvdla_json_path)"
   ]
  },
  {
   "cell_type": "code",
   "execution_count": 40,
   "metadata": {},
   "outputs": [
    {
     "name": "stdout",
     "output_type": "stream",
     "text": [
      "loading 28 bus specs\n",
      "  - done, loaded 50 bus defs with 535 required and 623 optional ports \n"
     ]
    }
   ],
   "source": [
    "bus_defs = duhportinf.load_bus_defs(bus_spec_rootdir)"
   ]
  },
  {
   "cell_type": "code",
   "execution_count": 41,
   "metadata": {},
   "outputs": [],
   "source": [
    "tmp_json_path = os.path.join(block_root, 'tmp', 'tmp.json5')\n",
    "tmp_ports = get_ports_from_json5(tmp_json_path)"
   ]
  },
  {
   "cell_type": "code",
   "execution_count": 42,
   "metadata": {},
   "outputs": [],
   "source": [
    "pg, Z, wn = duhportinf.get_port_grouper(ddr_ports)"
   ]
  },
  {
   "cell_type": "code",
   "execution_count": 44,
   "metadata": {},
   "outputs": [
    {
     "name": "stdout",
     "output_type": "stream",
     "text": [
      "interface width:146, structed_width:8\n",
      " - num vector bundles 8\n",
      "    - prefix:dfi_lvl_pattern_, size:9\n",
      "    - prefix:dfi_phy_wrlvl_cs, size:9\n",
      "    - prefix:dfi_phy_rdlvl_gate_cs, size:9\n",
      "    - prefix:dfi_phy_rdlvl_cs, size:9\n",
      "    - prefix:dfi_rddata_cs_n_p1_, size:9\n",
      "    - prefix:dfi_rddata_cs_n_, size:9\n",
      "    - prefix:dfi_wrdata_cs_n_p1_, size:9\n",
      "    - prefix:dfi_wrdata_cs_n_, size:9\n",
      "interface width:168, structed_width:8\n",
      " - num vector bundles 8\n",
      "    - prefix:dfi_lvl_pattern_, size:9\n",
      "    - prefix:dfi_phy_wrlvl_cs, size:9\n",
      "    - prefix:dfi_phy_rdlvl_gate_cs, size:9\n",
      "    - prefix:dfi_phy_rdlvl_cs, size:9\n",
      "    - prefix:dfi_rddata_cs_n_p1_, size:9\n",
      "    - prefix:dfi_rddata_cs_n_, size:9\n",
      "    - prefix:dfi_wrdata_cs_n_p1_, size:9\n",
      "    - prefix:dfi_wrdata_cs_n_, size:9\n",
      "interface width:136, structed_width:8\n",
      " - num vector bundles 8\n",
      "    - prefix:dfi_lvl_pattern_, size:9\n",
      "    - prefix:dfi_phy_wrlvl_cs, size:9\n",
      "    - prefix:dfi_phy_rdlvl_gate_cs, size:9\n",
      "    - prefix:dfi_phy_rdlvl_cs, size:9\n",
      "    - prefix:dfi_rddata_cs_n_p1_, size:9\n",
      "    - prefix:dfi_rddata_cs_n_, size:9\n",
      "    - prefix:dfi_wrdata_cs_n_p1_, size:9\n",
      "    - prefix:dfi_wrdata_cs_n_, size:9\n",
      "interface width:27, structed_width:3\n",
      " - num vector bundles 3\n",
      "    - prefix:dfi_phy_wrlvl_cs, size:9\n",
      "    - prefix:dfi_phy_rdlvl_gate_cs, size:9\n",
      "    - prefix:dfi_phy_rdlvl_cs, size:9\n",
      "interface width:9, structed_width:0\n",
      " - num vector bundles 1\n",
      "    - prefix:dfi_phy_wrlvl_cs, size:9\n"
     ]
    }
   ],
   "source": [
    "dport = ('dfi_phy_wrlvl_cs0_n', 2, 1)\n",
    "#print('vector root ids', len(pg.vector_root_ids))\n",
    "#for nid in pg.vector_root_ids:\n",
    "#    vports = list(sorted(pg.vector_nid_ports_map[nid]))\n",
    "#    print('{} vector ports'.format(len(vports)), len(vports))\n",
    "for _, interface in pg.get_initial_interfaces():\n",
    "    if dport in set(interface.ports):\n",
    "        print('interface width:{}, structed_width:{}'.format(\n",
    "            interface.size,\n",
    "            interface.structed_width,\n",
    "        ))\n",
    "        print(' - num vector bundles', len(list(interface.vector_bundles)))\n",
    "        for b in interface.vector_bundles:\n",
    "            print('    - prefix:{}, size:{}'.format(b.prefix, b.size))"
   ]
  },
  {
   "cell_type": "code",
   "execution_count": 583,
   "metadata": {},
   "outputs": [],
   "source": [
    "# check if splitting port names on digits screws up initial port groups\n",
    "pg, Z, wn = duhportinf.get_port_grouper(ddr_ports)"
   ]
  },
  {
   "cell_type": "code",
   "execution_count": null,
   "metadata": {},
   "outputs": [],
   "source": [
    "df = pandas.DataFrame(Z)\n",
    "df = df.astype({0:int, 1:int, 3:int})\n",
    "df.to_csv('linkage-tree.csv', header=False, index=False)\n",
    "df = pandas.DataFrame(wire_names)\n",
    "df.to_csv('wire-names.csv', header=False, index=False)\n",
    "df.head()"
   ]
  },
  {
   "cell_type": "code",
   "execution_count": null,
   "metadata": {},
   "outputs": [],
   "source": [
    "def debug(ports, dport, bus_abstract_names):\n",
    "    # filter to get debug bus defs\n",
    "    bus_abstract_names = set(bus_abstract_names)\n",
    "    dbus_defs = list(filter(\n",
    "        lambda bd: bd.abstract_type.name in bus_abstract_names,\n",
    "        bus_defs,\n",
    "    ))\n",
    "    \n",
    "    pg, Z, wire_names = duhportinf._grouper.get_port_grouper(ports)\n",
    "    pg_bus_pairings = duhportinf.main._get_bus_pairings(pg, dbus_defs)\n",
    "    # filter only for port_group with dport\n",
    "    pg_bus_pairings = list(filter(\n",
    "        lambda x: dport in x[2],\n",
    "        pg_bus_pairings,\n",
    "    ))\n",
    "    pg_bus_mappings = duhportinf.main._get_initial_bus_matches(pg, pg_bus_pairings)\n",
    "    return list(map(lambda x: x[2:], pg_bus_mappings))\n",
    "    "
   ]
  },
  {
   "cell_type": "code",
   "execution_count": null,
   "metadata": {},
   "outputs": [],
   "source": [
    "port_path = '/ip-block-designs/tmp/tmp.json5' \n",
    "ports = duhportinf.get_ports_from_json5(port_path)\n",
    "dport = ('front_port_axi4_0_ar_ready', 1, -1)\n",
    "pg_bus_mappings = debug(ports, dport, ['AXI4_rtl'])"
   ]
  },
  {
   "cell_type": "code",
   "execution_count": null,
   "metadata": {},
   "outputs": [],
   "source": [
    "stime = time.time()\n",
    "\n",
    "nvdla_pg_bus_mappings = duhportinf.get_bus_matches(nvdla_ports, list(bus_defs))\n",
    "etime = time.time()\n",
    "print('total time: {}s'.format(etime-stime))"
   ]
  },
  {
   "cell_type": "code",
   "execution_count": null,
   "metadata": {},
   "outputs": [],
   "source": [
    "util.dump_json_bus_candidates('testy.json', nvdla_json_path, nvdla_pg_bus_mappings)"
   ]
  },
  {
   "cell_type": "code",
   "execution_count": null,
   "metadata": {},
   "outputs": [],
   "source": [
    "stime = time.time()\n",
    "\n",
    "ddr_pg_bus_mappings = duhportinf.get_bus_matches(ddr_ports, list(bus_defs))\n",
    "\n",
    "etime = time.time()\n",
    "print('total time: {}s'.format(etime-stime))"
   ]
  },
  {
   "cell_type": "code",
   "execution_count": 46,
   "metadata": {
    "scrolled": true
   },
   "outputs": [
    {
     "name": "stdout",
     "output_type": "stream",
     "text": [
      "hierarchically clustering ports and selecting port groups\n",
      "  - done\n",
      "initial bus pairing with port groups\n",
      "  - done\n",
      "bus mapping\n",
      "  - done                                                                         \n",
      "total time: 13.784493684768677s\n"
     ]
    }
   ],
   "source": [
    "s_pcie_ports = list(filter(lambda p: 'axi4' not in p[0], pcie_ports))\n",
    "stime = time.time()\n",
    "pcie_pg_bus_mappings = duhportinf.get_bus_matches(s_pcie_ports, list(bus_defs))\n",
    "\n",
    "etime = time.time()\n",
    "print('total time: {}s'.format(etime-stime))"
   ]
  },
  {
   "cell_type": "code",
   "execution_count": 51,
   "metadata": {},
   "outputs": [
    {
     "name": "stdout",
     "output_type": "stream",
     "text": [
      "port group\n",
      "  -  ('pl_rxdata', None, 1)\n",
      "  -  ('pl_rxstatus', None, 1)\n",
      "  -  ('pl_phystatus', None, 1)\n",
      "  -  ('pl_rxstandby', None, -1)\n",
      "  -  ('pl_rxpolarity', None, -1)\n",
      "  -  ('pl_txcompliance', None, -1)\n",
      "  -  ('pl_txelecidle', None, -1)\n",
      "  -  ('pl_txsyncheader', None, -1)\n",
      "  -  ('pl_txstartblock', None, -1)\n",
      "  -  ('pl_txdatavalid', None, -1)\n",
      "  -  ('pl_txdatak', None, -1)\n",
      "  -  ('pl_txdata', None, -1)\n",
      "  -  ('pl_txdetectrx', None, -1)\n",
      "  -  ('pl_pll_rate', 3, -1)\n",
      "  -  ('pl_pll_ack', 1, 1)\n",
      "  -  ('pl_width', 2, -1)\n",
      "  -  ('pl_ltssm', 5, -1)\n",
      "  -  ('pl_blockaligncontrol', 1, -1)\n",
      "  -  ('pl_txdeemph', 1, -1)\n",
      "  -  ('pl_txswing', 1, -1)\n",
      "  -  ('pl_txmargin', 3, -1)\n",
      "  -  ('pl_rate', 2, -1)\n",
      "  -  ('pl_powerdown', 2, -1)\n",
      "  -  ('pl_spor', 1, 1)\n",
      "  -  ('pl_npor', 1, 1)\n",
      "  -  ('pl_srst', 1, 1)\n",
      "  -  ('pl_rstnp', 1, 1)\n",
      "  -  ('pl_rstn', 1, 1)\n",
      "  -  ('pl_rstn_srst_out', 1, -1)\n",
      "  -  ('pl_pclk_change_ok', None, 1)\n",
      "  -  ('pl_pclk_change_ack', None, -1)\n",
      "  -  ('pl_pclk', 1, 1)\n",
      "  -  ('pl_pclk_rate', 3, -1)\n",
      "bus mappings\n",
      "  - cost:121.01(n:0.50;w:36;d:21) bus_def:{'vendor': 'amba.com', 'library': 'AMBA4', 'name': 'AXI4_rtl', 'version': 'r0p0_0'}\n",
      "  - cost:132.87(n:0.43;w:36;d:24) bus_def:{'vendor': 'amba.com', 'library': 'AMBA4', 'name': 'ACE-Lite_rtl', 'version': 'r0p0_0'}\n",
      "  - cost:132.87(n:0.43;w:36;d:24) bus_def:{'vendor': 'amba.com', 'library': 'AMBA4', 'name': 'ACP_rtl', 'version': 'r0p0_0'}\n",
      "  - cost:135.05(n:0.03;w:35;d:25) bus_def:{'vendor': 'intel.com', 'library': 'PHY', 'name': 'PIPE_rtl', 'version': '4.4.0'}\n",
      "  - cost:144.06(n:0.53;w:39;d:26) bus_def:{'vendor': 'amba.com', 'library': 'AMBA4', 'name': 'ACE_rtl', 'version': 'r0p0_0'}\n"
     ]
    }
   ],
   "source": [
    "dport = ('pl_pll_ack', 1, 1)\n",
    "for interface, bus_mappings in pcie_pg_bus_mappings:\n",
    "    if dport in interface.ports:\n",
    "        print('port group')\n",
    "        for port in interface.ports:\n",
    "            print('  - ', port)\n",
    "        print('bus mappings')\n",
    "        for bm in bus_mappings:\n",
    "            print('  - cost:{} bus_def:{}'.format(\n",
    "                bm.cost,\n",
    "                str(bm.bus_def.abstract_type),\n",
    "            ))"
   ]
  },
  {
   "cell_type": "code",
   "execution_count": null,
   "metadata": {
    "scrolled": true
   },
   "outputs": [],
   "source": [
    "def dump_nonaxi_dendogram(path, ports):\n",
    "    assert path.endswith('.pdf')\n",
    "    nonaxi_ports = list(filter(\n",
    "        lambda p: not p[0].startswith('axi'),\n",
    "        ports,\n",
    "    ))\n",
    "    _, Z, wire_names = abxportinf.get_port_grouper(nonaxi_ports)\n",
    "    fig, ax = pyplot.subplots(1,1, figsize=(10,40))\n",
    "    _ = dendrogram(\n",
    "        Z,\n",
    "        ax=ax,\n",
    "        orientation='left',\n",
    "        labels=wire_names,\n",
    "    )\n",
    "    pyplot.savefig(path)\n"
   ]
  },
  {
   "cell_type": "code",
   "execution_count": null,
   "metadata": {},
   "outputs": [],
   "source": [
    "dump_nonaxi_dendogram('ddr-nonaxi-dendogram.pdf', ddr_ports)\n",
    "dump_nonaxi_dendogram('pcie-nonaxi-dendogram.pdf', pcie_ports)"
   ]
  },
  {
   "cell_type": "code",
   "execution_count": null,
   "metadata": {},
   "outputs": [],
   "source": [
    "util.dump_json_bus_candidates('ddr-busprop.json', ddr_pg_bus_mappings)\n",
    "util.dump_json_bus_candidates('pcie-busprop.json', pcie_pg_bus_mappings)"
   ]
  }
 ],
 "metadata": {
  "kernelspec": {
   "display_name": "Python 3",
   "language": "python",
   "name": "python3"
  },
  "language_info": {
   "codemirror_mode": {
    "name": "ipython",
    "version": 3
   },
   "file_extension": ".py",
   "mimetype": "text/x-python",
   "name": "python",
   "nbconvert_exporter": "python",
   "pygments_lexer": "ipython3",
   "version": "3.6.7"
  }
 },
 "nbformat": 4,
 "nbformat_minor": 2
}
