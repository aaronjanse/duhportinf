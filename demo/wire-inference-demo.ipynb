{
 "cells": [
  {
   "cell_type": "code",
   "execution_count": 1,
   "metadata": {},
   "outputs": [],
   "source": [
    "import os\n",
    "import sys\n",
    "import numpy as np\n",
    "from collections import defaultdict, Counter\n",
    "import time\n",
    "from matplotlib import pyplot\n",
    "import json5\n",
    "from matplotlib import pyplot as pyplot\n",
    "from scipy.cluster.hierarchy import dendrogram\n",
    "import pandas\n",
    "\n",
    "import importlib\n",
    "import duhportinf\n",
    "import duhportinf._grouper\n",
    "import duhportinf._optimize\n",
    "import duhportinf._vectorizer\n",
    "import duhportinf.busdef\n",
    "import duhportinf.main \n",
    "from   duhportinf.busdef import BusDef\n",
    "from   duhportinf._optimize import MatchCost\n",
    "from   duhportinf import util\n",
    "\n",
    "%load_ext autoreload\n",
    "%autoreload 2"
   ]
  },
  {
   "cell_type": "code",
   "execution_count": 2,
   "metadata": {},
   "outputs": [],
   "source": [
    "block_root = '/ip-block-designs'\n",
    "bus_spec_rootdir = '/bus-defs/specs'"
   ]
  },
  {
   "cell_type": "code",
   "execution_count": 3,
   "metadata": {},
   "outputs": [],
   "source": [
    "def get_ports_from_json5(path):\n",
    "    with open(path) as fin:\n",
    "        block = json5.load(fin)\n",
    "    return util.format_ports(block['definitions']['ports'])"
   ]
  },
  {
   "cell_type": "code",
   "execution_count": 4,
   "metadata": {},
   "outputs": [],
   "source": [
    "pcie_json_path = os.path.join(\n",
    "    block_root,\n",
    "    'block-plda-pcie-controller',\n",
    "    'PLDA_ws.json5',\n",
    ")\n",
    "ddr_json_path = os.path.join(\n",
    "    block_root,\n",
    "    'block-cadence-ddr3',\n",
    "    'ddr.json5',\n",
    ")\n",
    "nvdla_json_path = os.path.join(\n",
    "    block_root,\n",
    "    'block-nvdla',\n",
    "    'nvdla.json5',\n",
    ")\n",
    "pcie_ports  = get_ports_from_json5(pcie_json_path)\n",
    "ddr_ports   = get_ports_from_json5(ddr_json_path)\n",
    "nvdla_ports = get_ports_from_json5(nvdla_json_path)"
   ]
  },
  {
   "cell_type": "code",
   "execution_count": 5,
   "metadata": {},
   "outputs": [
    {
     "name": "stdout",
     "output_type": "stream",
     "text": [
      "loading 28 bus specs\n",
      "  - done, loaded 50 bus defs with 535 required and 623 optional ports \n"
     ]
    }
   ],
   "source": [
    "bus_defs = duhportinf.load_bus_defs(bus_spec_rootdir)"
   ]
  },
  {
   "cell_type": "code",
   "execution_count": 6,
   "metadata": {},
   "outputs": [],
   "source": [
    "tmp_json_path = os.path.join(block_root, 'tmp', 'tmp.json5')\n",
    "tmp_ports = get_ports_from_json5(tmp_json_path)"
   ]
  },
  {
   "cell_type": "code",
   "execution_count": 18,
   "metadata": {},
   "outputs": [
    {
     "data": {
      "text/plain": [
       "0"
      ]
     },
     "execution_count": 18,
     "metadata": {},
     "output_type": "execute_result"
    }
   ],
   "source": [
    "sum([])"
   ]
  },
  {
   "cell_type": "code",
   "execution_count": 583,
   "metadata": {},
   "outputs": [],
   "source": [
    "# check if splitting port names on digits screws up initial port groups\n",
    "pg, Z, wn = duhportinf.get_port_grouper(ddr_ports)"
   ]
  },
  {
   "cell_type": "code",
   "execution_count": 588,
   "metadata": {},
   "outputs": [
    {
     "name": "stdout",
     "output_type": "stream",
     "text": [
      "dport group size: 56\n",
      "['axi', '0', 'awvalid']\n",
      "['axi', '0', 'wparity', 'en']\n",
      "['axi', '0', 'rdata', 'parity']\n",
      "['axi', '0', 'rvalid']\n",
      "['axi', '0', 'rlast']\n",
      "['axi', '0', 'awsize']\n",
      "['axi', '0', 'arvalid']\n",
      "['axi', '0', 'bparity', 'en']\n",
      "['axi', '0', 'aclk']\n",
      "['axi', '0', 'awid']\n",
      "['axi', '0', 'arapcmd']\n",
      "['axi', '0', 'wvalid']\n",
      "['axi', '0', 'arlock']\n",
      "['axi', '0', 'bid']\n",
      "['axi', '0', 'awqos']\n",
      "['axi', '0', 'ar', 'parity', 'en']\n",
      "['axi', '0', 'arregion']\n",
      "['axi', '0', 'bresp']\n",
      "['axi', '0', 'bparity']\n",
      "['axi', '0', 'wlast']\n",
      "['axi', '0', 'rresp']\n",
      "['axi', '0', 'awprot']\n",
      "['axi', '0', 'wctrl', 'parity']\n",
      "['axi', '0', 'awcobuf']\n",
      "['axi', '0', 'arid']\n",
      "['axi', '0', 'rid']\n",
      "['axi', '0', 'aw', 'parity']\n",
      "['axi', '0', 'awapcmd']\n",
      "['axi', '0', 'awcache', '0']\n",
      "['axi', '0', 'arqos']\n",
      "['axi', '0', 'rdata']\n",
      "['axi', '0', 'awburst']\n",
      "['axi', '0', 'aresetn']\n",
      "['axi', '0', 'arsize']\n",
      "['axi', '0', 'bvalid']\n",
      "['axi', '0', 'wstrb']\n",
      "['axi', '0', 'ar', 'parity']\n",
      "['axi', '0', 'rctrl', 'parity']\n",
      "['axi', '0', 'wdata']\n",
      "['axi', '0', 'awaddr']\n",
      "['axi', '0', 'aw', 'parity', 'en']\n",
      "['axi', '0', 'awlock']\n",
      "['axi', '0', 'awallstrb']\n",
      "['axi', '0', 'awready']\n",
      "['axi', '0', 'arlen']\n",
      "['axi', '0', 'arburst']\n",
      "['axi', '0', 'wdata', 'parity']\n",
      "['axi', '0', 'arprot']\n",
      "['axi', '0', 'araddr']\n",
      "['axi', '0', 'arready']\n",
      "['axi', '0', 'awlen']\n",
      "['axi', '0', 'wready']\n",
      "['axi', '0', 'rready']\n",
      "['axi', '0', 'rparity', 'en']\n",
      "['axi', '0', 'awregion']\n",
      "['axi', '0', 'bready']\n",
      "dport group size: 112\n",
      "dport group size: 113\n"
     ]
    }
   ],
   "source": [
    "dport = ('axi0_ARQOS', 1, 1)\n",
    "for nid, port_group in pg.get_initial_port_groups():\n",
    "    if dport in port_group:\n",
    "        print('dport group size: {}'.format(len(port_group)))\n",
    "        if len(port_group) < 60:\n",
    "            for port in port_group:\n",
    "                print(util.words_from_name(port[0]))"
   ]
  },
  {
   "cell_type": "code",
   "execution_count": null,
   "metadata": {},
   "outputs": [],
   "source": [
    "df = pandas.DataFrame(Z)\n",
    "df = df.astype({0:int, 1:int, 3:int})\n",
    "df.to_csv('linkage-tree.csv', header=False, index=False)\n",
    "df = pandas.DataFrame(wire_names)\n",
    "df.to_csv('wire-names.csv', header=False, index=False)\n",
    "df.head()"
   ]
  },
  {
   "cell_type": "code",
   "execution_count": null,
   "metadata": {},
   "outputs": [],
   "source": [
    "def debug(ports, dport, bus_abstract_names):\n",
    "    # filter to get debug bus defs\n",
    "    bus_abstract_names = set(bus_abstract_names)\n",
    "    dbus_defs = list(filter(\n",
    "        lambda bd: bd.abstract_type.name in bus_abstract_names,\n",
    "        bus_defs,\n",
    "    ))\n",
    "    \n",
    "    pg, Z, wire_names = duhportinf._grouper.get_port_grouper(ports)\n",
    "    pg_bus_pairings = duhportinf.main._get_bus_pairings(pg, dbus_defs)\n",
    "    # filter only for port_group with dport\n",
    "    pg_bus_pairings = list(filter(\n",
    "        lambda x: dport in x[2],\n",
    "        pg_bus_pairings,\n",
    "    ))\n",
    "    pg_bus_mappings = duhportinf.main._get_initial_bus_matches(pg, pg_bus_pairings)\n",
    "    return list(map(lambda x: x[2:], pg_bus_mappings))\n",
    "    "
   ]
  },
  {
   "cell_type": "code",
   "execution_count": null,
   "metadata": {},
   "outputs": [],
   "source": [
    "port_path = '/ip-block-designs/tmp/tmp.json5' \n",
    "ports = duhportinf.get_ports_from_json5(port_path)\n",
    "dport = ('front_port_axi4_0_ar_ready', 1, -1)\n",
    "pg_bus_mappings = debug(ports, dport, ['AXI4_rtl'])"
   ]
  },
  {
   "cell_type": "code",
   "execution_count": null,
   "metadata": {},
   "outputs": [],
   "source": [
    "stime = time.time()\n",
    "\n",
    "nvdla_pg_bus_mappings = duhportinf.get_bus_matches(nvdla_ports, list(bus_defs))\n",
    "etime = time.time()\n",
    "print('total time: {}s'.format(etime-stime))"
   ]
  },
  {
   "cell_type": "code",
   "execution_count": null,
   "metadata": {},
   "outputs": [],
   "source": [
    "util.dump_json_bus_candidates('testy.json', nvdla_json_path, nvdla_pg_bus_mappings)"
   ]
  },
  {
   "cell_type": "code",
   "execution_count": null,
   "metadata": {},
   "outputs": [],
   "source": [
    "stime = time.time()\n",
    "\n",
    "ddr_pg_bus_mappings = duhportinf.get_bus_matches(ddr_ports, list(bus_defs))\n",
    "\n",
    "etime = time.time()\n",
    "print('total time: {}s'.format(etime-stime))"
   ]
  },
  {
   "cell_type": "code",
   "execution_count": null,
   "metadata": {
    "scrolled": true
   },
   "outputs": [],
   "source": [
    "s_pcie_ports = list(filter(lambda p: 'axi4' not in p[0], pcie_ports))\n",
    "stime = time.time()\n",
    "pcie_pg_bus_mappings = duhportinf.get_bus_matches(pcie_ports, list(bus_defs))\n",
    "\n",
    "etime = time.time()\n",
    "print('total time: {}s'.format(etime-stime))"
   ]
  },
  {
   "cell_type": "code",
   "execution_count": null,
   "metadata": {
    "scrolled": true
   },
   "outputs": [],
   "source": [
    "def dump_nonaxi_dendogram(path, ports):\n",
    "    assert path.endswith('.pdf')\n",
    "    nonaxi_ports = list(filter(\n",
    "        lambda p: not p[0].startswith('axi'),\n",
    "        ports,\n",
    "    ))\n",
    "    _, Z, wire_names = abxportinf.get_port_grouper(nonaxi_ports)\n",
    "    fig, ax = pyplot.subplots(1,1, figsize=(10,40))\n",
    "    _ = dendrogram(\n",
    "        Z,\n",
    "        ax=ax,\n",
    "        orientation='left',\n",
    "        labels=wire_names,\n",
    "    )\n",
    "    pyplot.savefig(path)\n"
   ]
  },
  {
   "cell_type": "code",
   "execution_count": null,
   "metadata": {},
   "outputs": [],
   "source": [
    "dump_nonaxi_dendogram('ddr-nonaxi-dendogram.pdf', ddr_ports)\n",
    "dump_nonaxi_dendogram('pcie-nonaxi-dendogram.pdf', pcie_ports)"
   ]
  },
  {
   "cell_type": "code",
   "execution_count": null,
   "metadata": {},
   "outputs": [],
   "source": [
    "util.dump_json_bus_candidates('ddr-busprop.json', ddr_pg_bus_mappings)\n",
    "util.dump_json_bus_candidates('pcie-busprop.json', pcie_pg_bus_mappings)"
   ]
  }
 ],
 "metadata": {
  "kernelspec": {
   "display_name": "Python 3",
   "language": "python",
   "name": "python3"
  },
  "language_info": {
   "codemirror_mode": {
    "name": "ipython",
    "version": 3
   },
   "file_extension": ".py",
   "mimetype": "text/x-python",
   "name": "python",
   "nbconvert_exporter": "python",
   "pygments_lexer": "ipython3",
   "version": "3.6.7"
  }
 },
 "nbformat": 4,
 "nbformat_minor": 2
}
