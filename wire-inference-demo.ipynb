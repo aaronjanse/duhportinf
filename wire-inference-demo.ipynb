{
 "cells": [
  {
   "cell_type": "code",
   "execution_count": 17,
   "metadata": {},
   "outputs": [
    {
     "name": "stdout",
     "output_type": "stream",
     "text": [
      "The autoreload extension is already loaded. To reload it, use:\n",
      "  %reload_ext autoreload\n"
     ]
    }
   ],
   "source": [
    "import os\n",
    "import sys\n",
    "from collections import defaultdict, Counter\n",
    "import time\n",
    "from matplotlib import pyplot\n",
    "\n",
    "import importlib\n",
    "import abxportinf\n",
    "import abxportinf._grouper\n",
    "import abxportinf._optimize\n",
    "import abxportinf._vectorizer\n",
    "import abxportinf.busdef\n",
    "import abxportinf.main \n",
    "import abxportinf.util\n",
    "from abxportinf.busdef import BusDef\n",
    "from abxportinf._optimize import MatchCost\n",
    "\n",
    "%load_ext autoreload\n",
    "%autoreload 2"
   ]
  },
  {
   "cell_type": "code",
   "execution_count": 4,
   "metadata": {},
   "outputs": [
    {
     "name": "stdout",
     "output_type": "stream",
     "text": [
      "Warning ('regHADDR', 'PAR_REG_ADDR_WIDTH + 2') not correctly parsed\n",
      "Warning ('phy_reg_addr', '-(PAR_REG_ADDR_WIDTH)') not correctly parsed\n"
     ]
    }
   ],
   "source": [
    "block_root = '/ddr'\n",
    "comp_json_path = os.path.join(block_root, 'ddr.json5')\n",
    "ports = abxportinf.get_ports_from_json5(comp_json_path)"
   ]
  },
  {
   "cell_type": "code",
   "execution_count": 5,
   "metadata": {},
   "outputs": [
    {
     "name": "stdout",
     "output_type": "stream",
     "text": [
      "loading bus defs from specs\n",
      "  - loading  /bus-defs/specs/amba.com/AMBA2/AHB/r3p0_1/AHB_rtl.json5\n",
      "  - loading  /bus-defs/specs/amba.com/AMBA5/AHB5Target/r0p0_0/AHB5Target_rtl.json5\n",
      "  - loading  /bus-defs/specs/amba.com/AMBA5/AHB5Initiator/r0p0_0/AHB5Initiator_rtl.json5\n",
      "  - loading  /bus-defs/specs/amba.com/AMBA4/AXI4Stream/r0p0_1/AXI4Stream_rtl.json5\n",
      "  - loading  /bus-defs/specs/amba.com/AMBA4/AXI4/r0p0_0/AXI4_rtl.json5\n",
      "  - loading  /bus-defs/specs/amba.com/AMBA4/AXI4/r0p0_0/AXI4_RO_rtl.json5\n",
      "  - loading  /bus-defs/specs/amba.com/AMBA4/ACE-Lite/r0p0_0/ACE-Lite_rtl.json5\n",
      "  - loading  /bus-defs/specs/amba.com/AMBA4/APB4/r0p0_0/APB4_rtl.json5\n",
      "  - loading  /bus-defs/specs/amba.com/AMBA4/ATB/r0p0_0/ATB_rtl.json5\n",
      "  - loading  /bus-defs/specs/amba.com/AMBA4/ACP/r0p0_0/ACP_rtl.json5\n",
      "  - loading  /bus-defs/specs/amba.com/AMBA4/ACE/r0p0_0/ACE_rtl.json5\n",
      "  - loading  /bus-defs/specs/amba.com/AMBA3/AHBLite/r2p0_0/AHBLite_rtl.json5\n",
      "  - loading  /bus-defs/specs/amba.com/AMBA3/APB/r2p0_0/APB_rtl.json5\n",
      "  - loading  /bus-defs/specs/amba.com/AMBA3/AHBLiteTarget/r2p0_0/AHBLiteTarget_rtl.json5\n",
      "  - loading  /bus-defs/specs/amba.com/AMBA3/ATB/r2p0_0/ATB_rtl.json5\n",
      "  - loading  /bus-defs/specs/amba.com/AMBA3/AXI/r2p0_0/AXI_rtl.json5\n",
      "  - loading  /bus-defs/specs/amba.com/AMBA3/AHBLiteInitiator/r2p0_0/AHBLiteInitiator_rtl.json5\n",
      "  - loading  /bus-defs/specs/amba.com/AMBA3/LPI/r2p0_0/LPI_rtl.json5\n",
      "  - loading  /bus-defs/specs/amba.com/AMBA3/LPI/r3p0_0/LPI_rtl.json5\n",
      "  - loading  /bus-defs/specs/amba.com/AMBA3/LPI/r2p1_0/LPI_rtl.json5\n",
      "  - done\n",
      "loaded 34 bus definitions from specs\n",
      "  - total req ports 395\n",
      "  - total opt ports 537\n"
     ]
    }
   ],
   "source": [
    "bus_spec_rootdir = '/bus-defs/specs'\n",
    "                                \n",
    "print('loading bus defs from specs')\n",
    "bus_defs = []                \n",
    "for root, dirs, fnames in os.walk(bus_spec_rootdir):\n",
    "    #print((root, dirs, files))  \n",
    "    for fname in fnames:             \n",
    "        spec_path = os.path.join(root, fname)\n",
    "        if BusDef.is_spec_bus_def(spec_path):     \n",
    "            print('  - loading ', spec_path)\n",
    "            bus_defs.extend(\n",
    "                BusDef.bus_defs_from_spec(spec_path)\n",
    "            )                \n",
    "print('  - done')                                            \n",
    "print('loaded {} bus definitions from specs'.format(len(bus_defs)))\n",
    "print('  - total req ports', sum([bd.num_req_ports for bd in bus_defs]))\n",
    "print('  - total opt ports', sum([bd.num_opt_ports for bd in bus_defs]))"
   ]
  },
  {
   "cell_type": "code",
   "execution_count": 50,
   "metadata": {},
   "outputs": [
    {
     "name": "stdout",
     "output_type": "stream",
     "text": [
      "initial port groups matched 22\n",
      "opt port groups matched 14\n",
      "total time: 66.32354712486267s\n"
     ]
    }
   ],
   "source": [
    "stime = time.time()\n",
    "pg_bus_mappings = abxportinf.get_bus_matches(ports, list(bus_defs))\n",
    "etime = time.time()\n",
    "print('total time: {}s'.format(etime-stime))"
   ]
  },
  {
   "cell_type": "code",
   "execution_count": 68,
   "metadata": {},
   "outputs": [
    {
     "name": "stdout",
     "output_type": "stream",
     "text": [
      "22 12.69(n:1.69;w:11;d:0)\n",
      "{('dfi_bank_p1', 3, -1), ('dfi_phyupd_type', 2, 1), ('dfi_bg_p1', 2, -1), ('dfi_lp_ack', 1, 1), ('dfi_wrlvl_en', 9, -1), ('dfi_phyupd_ack', 1, -1), ('dfi_init_complete', 1, 1), ('dfi_wrlvl_strobe', 9, -1), ('dfi_lp_req', 1, -1), ('dfi_rdlvl_req', 9, 1), ('dfi_odt_p1', 2, -1), ('dfi_wrdata_p1', 144, -1), ('dfi_rdlvl_resp', 9, 1), ('dfi_wrlvl_resp', 9, 1), ('dfi_cke_p1', 2, -1), ('dfi_address_p1', 17, -1), ('dfi_ctrlupd_ack', 1, 1), ('dfi_lvl_periodic', 9, -1), ('dfi_phyupd_req', 1, 1), ('dfi_wrlvl_req', 9, 1), ('dfi_ctrlupd_req', 1, -1), ('dfi_lp_wakeup', 4, -1)}\n",
      "21 13.72(n:1.72;w:12;d:0)\n",
      "{('axi1_RRESP', 2, -1), ('axi1_BPARITY', 1, -1), ('axi1_BVALID', 1, -1), ('axi1_RREADY', 1, 1), ('axi1_RVALID', 1, -1), ('axi1_ARBURST', 2, 1), ('axi1_BRESP', 2, -1), ('axi1_ARSIZE', 3, 1), ('axi1_ARLOCK', 1, 1), ('axi1_BID', 12, -1), ('axi1_ARPROT', 2, 1), ('axi1_WREADY', 1, -1), ('axi1_ARLEN', 8, 1), ('axi1_ARVALID', 1, 1), ('axi1_RID', 12, -1), ('axi1_AWREADY', 1, -1), ('axi1_RDATA', 256, -1), ('axi1_RLAST', 1, -1), ('axi1_ARAPCMD', 1, 1), ('axi1_ARREGION', 2, 1), ('axi1_ARREADY', 1, -1)}\n",
      "21 13.72(n:1.72;w:12;d:0)\n",
      "{('axi0_AWREADY', 1, -1), ('axi0_RID', 12, -1), ('axi0_RVALID', 1, -1), ('axi0_BPARITY', 1, -1), ('axi0_ARREGION', 2, 1), ('axi0_ARSIZE', 3, 1), ('axi0_BVALID', 1, -1), ('axi0_BRESP', 2, -1), ('axi0_ARLOCK', 1, 1), ('axi0_RRESP', 2, -1), ('axi0_WREADY', 1, -1), ('axi0_RLAST', 1, -1), ('axi0_ARVALID', 1, 1), ('axi0_ARBURST', 2, 1), ('axi0_ARPROT', 2, 1), ('axi0_BID', 12, -1), ('axi0_ARLEN', 8, 1), ('axi0_RDATA', 256, -1), ('axi0_RREADY', 1, 1), ('axi0_ARAPCMD', 1, 1), ('axi0_ARREADY', 1, -1)}\n",
      "44 16.00(n:1.00;w:15;d:0)\n",
      "{('axi1_AWSIZE', 3, 1), ('axi1_RRESP', 2, -1), ('axi1_BPARITY', 1, -1), ('axi1_AWLOCK', 1, 1), ('axi1_BVALID', 1, -1), ('axi1_AWADDR', 37, 1), ('axi1_WLAST', 1, 1), ('axi1_AWBURST', 2, 1), ('axi1_ACLK', 1, 1), ('axi1_AWREGION', 2, 1), ('axi1_RREADY', 1, 1), ('axi1_BREADY', 1, 1), ('axi1_AWVALID', 1, 1), ('axi1_AWLEN', 8, 1), ('axi1_AWPROT', 2, 1), ('axi1_RVALID', 1, -1), ('axi1_ARBURST', 2, 1), ('axi1_WSTRB', 32, 1), ('axi1_BRESP', 2, -1), ('axi1_ARSIZE', 3, 1), ('axi1_ARLOCK', 1, 1), ('axi1_AWQOS', 1, 1), ('axi1_BID', 12, -1), ('axi1_ARPROT', 2, 1), ('axi1_AWALLSTRB', 1, 1), ('axi1_WREADY', 1, -1), ('axi1_ARLEN', 8, 1), ('axi1_WVALID', 1, 1), ('axi1_ARVALID', 1, 1), ('axi1_AWCOBUF', 1, 1), ('axi1_ARADDR', 37, 1), ('axi1_AWAPCMD', 1, 1), ('axi1_AWID', 12, 1), ('axi1_RID', 12, -1), ('axi1_AWREADY', 1, -1), ('axi1_RDATA', 256, -1), ('axi1_WDATA', 256, 1), ('axi1_ARID', 12, 1), ('axi1_ARQOS', 1, 1), ('axi1_ARESETn', 1, 1), ('axi1_RLAST', 1, -1), ('axi1_ARAPCMD', 1, 1), ('axi1_ARREGION', 2, 1), ('axi1_ARREADY', 1, -1)}\n",
      "44 16.00(n:1.00;w:15;d:0)\n",
      "{('axi0_ARESETn', 1, 1), ('axi0_AWVALID', 1, 1), ('axi0_ARADDR', 37, 1), ('axi0_AWREADY', 1, -1), ('axi0_WVALID', 1, 1), ('axi0_AWPROT', 2, 1), ('axi0_AWBURST', 2, 1), ('axi0_AWADDR', 37, 1), ('axi0_RID', 12, -1), ('axi0_WSTRB', 32, 1), ('axi0_BREADY', 1, 1), ('axi0_AWLEN', 8, 1), ('axi0_RVALID', 1, -1), ('axi0_AWAPCMD', 1, 1), ('axi0_BPARITY', 1, -1), ('axi0_ARREGION', 2, 1), ('axi0_ARSIZE', 3, 1), ('axi0_WLAST', 1, 1), ('axi0_BVALID', 1, -1), ('axi0_ACLK', 1, 1), ('axi0_BRESP', 2, -1), ('axi0_ARLOCK', 1, 1), ('axi0_ARQOS', 1, 1), ('axi0_RRESP', 2, -1), ('axi0_WREADY', 1, -1), ('axi0_ARID', 12, 1), ('axi0_RLAST', 1, -1), ('axi0_AWLOCK', 1, 1), ('axi0_ARVALID', 1, 1), ('axi0_AWALLSTRB', 1, 1), ('axi0_ARBURST', 2, 1), ('axi0_ARPROT', 2, 1), ('axi0_BID', 12, -1), ('axi0_ARLEN', 8, 1), ('axi0_RDATA', 256, -1), ('axi0_RREADY', 1, 1), ('axi0_AWID', 12, 1), ('axi0_ARAPCMD', 1, 1), ('axi0_AWSIZE', 3, 1), ('axi0_ARREADY', 1, -1), ('axi0_WDATA', 256, 1), ('axi0_AWCOBUF', 1, 1), ('axi0_AWQOS', 1, 1), ('axi0_AWREGION', 2, 1)}\n",
      "23 16.49(n:1.49;w:11;d:1)\n",
      "{('axi1_WPARITY_EN', 1, 1), ('axi1_BPARITY_EN', 1, -1), ('phy_reg_mask', 4, -1), ('phy_regin', 32, -1), ('phy_regout_valid', 1, 1), ('phy_regout', 32, 1), ('phy_reg_command_ready', 1, 1), ('axi0_BPARITY_EN', 1, -1), ('ecc_dataout_uncorrected_0', 1, -1), ('axi0_RPARITY_EN', 1, -1), ('ecc_dataout_uncorrected_1', 1, -1), ('mem_rst_valid', 1, -1), ('axi0_WPARITY_EN', 1, 1), ('q_almost_full', 1, -1), ('phy_reg_command_valid', 1, -1), ('axi1_AWCACHE_0', 1, 1), ('axi0_AWCACHE_0', 1, 1), ('refresh_in_process', 1, -1), ('dll_rst_n', 1, -1), ('axi1_RPARITY_EN', 1, -1), ('phy_reg_write', 1, -1), ('phy_reg_addr', None, -1), ('phy_regout_accept', 1, -1)}\n",
      "39 21.59(n:1.59;w:12;d:2)\n",
      "41 25.65(n:1.65;w:24;d:0)\n",
      "{('dfi_bank_p1', 3, -1), ('dfi_data_byte_disable', 9, -1), ('dfi_phyupd_type', 2, 1), ('dfi_bg_p1', 2, -1), ('dfi_dram_clk_disable', 2, -1), ('dfi_rdlvl_en', 9, -1), ('dfi_rddata_en_p1', 9, -1), ('dfi_rddata_valid', 9, 1), ('dfi_rddata', 144, 1), ('dfi_wrdata_mask', 18, -1), ('dfi_lp_ack', 1, 1), ('dfi_rdlvl_gate_en', 9, -1), ('dfi_rddata_en', 9, -1), ('dfi_wrlvl_en', 9, -1), ('dfi_phyupd_ack', 1, -1), ('dfi_init_complete', 1, 1), ('dfi_wrlvl_strobe', 9, -1), ('dfi_lp_req', 1, -1), ('dfi_rdlvl_req', 9, 1), ('dfi_odt_p1', 2, -1), ('dfi_wrdata_en_p1', 9, -1), ('dfi_parity_in', 1, -1), ('dfi_wrdata_en', 9, -1), ('dfi_wrdata_p1', 144, -1), ('dfi_rdlvl_resp', 9, 1), ('dfi_parity_in_p1', 1, -1), ('dfi_zq_in_progress', 1, -1), ('dfi_rddata_w1', 144, 1), ('dfi_wrdata', 144, -1), ('dfi_wrlvl_resp', 9, 1), ('dfi_cke_p1', 2, -1), ('dfi_address_p1', 17, -1), ('dfi_ctrlupd_ack', 1, 1), ('dfi_lvl_periodic', 9, -1), ('dfi_wrdata_mask_p1', 18, -1), ('dfi_phyupd_req', 1, 1), ('dfi_wrlvl_req', 9, 1), ('dfi_ctrlupd_req', 1, -1), ('dfi_lp_wakeup', 4, -1), ('dfi_rdlvl_gate_req', 9, 1), ('dfi_rddata_valid_w1', 9, 1)}\n",
      "48 31.59(n:1.59;w:18;d:3)\n",
      "20 32.67(n:1.67;w:19;d:3)\n",
      "31 38.58(n:1.58;w:13;d:6)\n",
      "55 41.44(n:1.44;w:32;d:2)\n",
      "38 58.63(n:1.63;w:37;d:5)\n",
      "27 59.59(n:1.59;w:26;d:8)\n"
     ]
    }
   ],
   "source": [
    "dport = ('axi1_ARPROT', 2, 1)\n",
    "#dport = ('axi0_AWPROT', 2, 1)\n",
    "#dport = ('axi0_AWQOS', 1, 1)\n",
    "for port_group, bus_mappings in sorted(\n",
    "    pg_bus_mappings,\n",
    "    key=lambda x: x[1][0][0],\n",
    "):\n",
    "    lcost = bus_mappings[0][0]\n",
    "    print(len(port_group), lcost)\n",
    "    if lcost.dc < 2:\n",
    "        print(port_group)\n",
    "    #print(port_group)\n",
    "    #if dport in port_group:\n",
    "    #    #print('port group', len(port_group), lcost)\n",
    "    #    #print(port_group)\n",
    "    #    abxportinf.debug_bus_mapping(port_group, bus_mappings[0])\n",
    "    #    print('size of port_group match', len(port_group))\n",
    "    #    print('  - lcost', lcost)"
   ]
  },
  {
   "cell_type": "code",
   "execution_count": 74,
   "metadata": {},
   "outputs": [
    {
     "name": "stdout",
     "output_type": "stream",
     "text": [
      "296\n"
     ]
    },
    {
     "ename": "TypeError",
     "evalue": "set_defaults() missing 1 required positional argument: 'parent'",
     "output_type": "error",
     "traceback": [
      "\u001b[0;31m---------------------------------------------------------------------------\u001b[0m",
      "\u001b[0;31mTypeError\u001b[0m                                 Traceback (most recent call last)",
      "\u001b[0;32m<ipython-input-74-a8f5c22944f1>\u001b[0m in \u001b[0;36m<module>\u001b[0;34m\u001b[0m\n\u001b[1;32m      1\u001b[0m \u001b[0mprint\u001b[0m\u001b[0;34m(\u001b[0m\u001b[0mlen\u001b[0m\u001b[0;34m(\u001b[0m\u001b[0mports\u001b[0m\u001b[0;34m)\u001b[0m\u001b[0;34m)\u001b[0m\u001b[0;34m\u001b[0m\u001b[0;34m\u001b[0m\u001b[0m\n\u001b[0;32m----> 2\u001b[0;31m \u001b[0;32mfor\u001b[0m \u001b[0mi\u001b[0m\u001b[0;34m,\u001b[0m \u001b[0;34m(\u001b[0m\u001b[0mlcost\u001b[0m\u001b[0;34m,\u001b[0m \u001b[0mport_group\u001b[0m\u001b[0;34m,\u001b[0m \u001b[0mbus_mappings\u001b[0m\u001b[0;34m)\u001b[0m \u001b[0;32min\u001b[0m \u001b[0menumerate\u001b[0m\u001b[0;34m(\u001b[0m\u001b[0mpg_bus_mappings\u001b[0m\u001b[0;34m)\u001b[0m\u001b[0;34m:\u001b[0m\u001b[0;34m\u001b[0m\u001b[0;34m\u001b[0m\u001b[0m\n\u001b[0m\u001b[1;32m      3\u001b[0m     \u001b[0;31m#if i != 20:\u001b[0m\u001b[0;34m\u001b[0m\u001b[0;34m\u001b[0m\u001b[0;34m\u001b[0m\u001b[0m\n\u001b[1;32m      4\u001b[0m     \u001b[0;31m#    continue\u001b[0m\u001b[0;34m\u001b[0m\u001b[0;34m\u001b[0m\u001b[0;34m\u001b[0m\u001b[0m\n\u001b[1;32m      5\u001b[0m     \u001b[0mprint\u001b[0m\u001b[0;34m(\u001b[0m\u001b[0;34m'port_group'\u001b[0m\u001b[0;34m,\u001b[0m \u001b[0mi\u001b[0m\u001b[0;34m)\u001b[0m\u001b[0;34m\u001b[0m\u001b[0;34m\u001b[0m\u001b[0m\n",
      "\u001b[0;32m/src/abxportinf/main.py\u001b[0m in \u001b[0;36mget_bus_matches\u001b[0;34m(ports, bus_defs)\u001b[0m\n\u001b[1;32m     32\u001b[0m \u001b[0;32mdef\u001b[0m \u001b[0mget_bus_matches\u001b[0m\u001b[0;34m(\u001b[0m\u001b[0mports\u001b[0m\u001b[0;34m,\u001b[0m \u001b[0mbus_defs\u001b[0m\u001b[0;34m)\u001b[0m\u001b[0;34m:\u001b[0m\u001b[0;34m\u001b[0m\u001b[0;34m\u001b[0m\u001b[0m\n\u001b[1;32m     33\u001b[0m     \u001b[0;31m# perform hierarchical clustering over ports to get tree grouping\u001b[0m\u001b[0;34m\u001b[0m\u001b[0;34m\u001b[0m\u001b[0;34m\u001b[0m\u001b[0m\n\u001b[0;32m---> 34\u001b[0;31m     \u001b[0mpg\u001b[0m\u001b[0;34m,\u001b[0m \u001b[0mZ\u001b[0m\u001b[0;34m,\u001b[0m \u001b[0mwire_names\u001b[0m \u001b[0;34m=\u001b[0m \u001b[0mget_port_grouper\u001b[0m\u001b[0;34m(\u001b[0m\u001b[0mports\u001b[0m\u001b[0;34m)\u001b[0m\u001b[0;34m\u001b[0m\u001b[0;34m\u001b[0m\u001b[0m\n\u001b[0m\u001b[1;32m     35\u001b[0m \u001b[0;34m\u001b[0m\u001b[0m\n\u001b[1;32m     36\u001b[0m     \u001b[0;31m# pass over all port groups and compute fcost to prioritize potential\u001b[0m\u001b[0;34m\u001b[0m\u001b[0;34m\u001b[0m\u001b[0;34m\u001b[0m\u001b[0m\n",
      "\u001b[0;32m/src/abxportinf/_grouper.py\u001b[0m in \u001b[0;36mget_port_grouper\u001b[0;34m(ports)\u001b[0m\n\u001b[1;32m     10\u001b[0m     \u001b[0mV\u001b[0m \u001b[0;34m=\u001b[0m \u001b[0mnp\u001b[0m\u001b[0;34m.\u001b[0m\u001b[0mvstack\u001b[0m\u001b[0;34m(\u001b[0m\u001b[0mvs\u001b[0m\u001b[0;34m)\u001b[0m\u001b[0;34m\u001b[0m\u001b[0;34m\u001b[0m\u001b[0m\n\u001b[1;32m     11\u001b[0m     \u001b[0mZ\u001b[0m \u001b[0;34m=\u001b[0m \u001b[0mlinkage\u001b[0m\u001b[0;34m(\u001b[0m\u001b[0mV\u001b[0m\u001b[0;34m,\u001b[0m \u001b[0;34m'ward'\u001b[0m\u001b[0;34m)\u001b[0m\u001b[0;34m\u001b[0m\u001b[0;34m\u001b[0m\u001b[0m\n\u001b[0;32m---> 12\u001b[0;31m     \u001b[0mpg\u001b[0m \u001b[0;34m=\u001b[0m \u001b[0mPortGrouper\u001b[0m\u001b[0;34m(\u001b[0m\u001b[0mports\u001b[0m\u001b[0;34m,\u001b[0m \u001b[0mZ\u001b[0m\u001b[0;34m)\u001b[0m\u001b[0;34m\u001b[0m\u001b[0;34m\u001b[0m\u001b[0m\n\u001b[0m\u001b[1;32m     13\u001b[0m     \u001b[0;31m#print(Z[:,:])\u001b[0m\u001b[0;34m\u001b[0m\u001b[0;34m\u001b[0m\u001b[0;34m\u001b[0m\u001b[0m\n\u001b[1;32m     14\u001b[0m     \u001b[0;32mreturn\u001b[0m \u001b[0mpg\u001b[0m\u001b[0;34m,\u001b[0m \u001b[0mZ\u001b[0m\u001b[0;34m,\u001b[0m \u001b[0mwire_names\u001b[0m\u001b[0;34m\u001b[0m\u001b[0;34m\u001b[0m\u001b[0m\n",
      "\u001b[0;32m/src/abxportinf/_grouper.py\u001b[0m in \u001b[0;36m__init__\u001b[0;34m(self, ports, Z)\u001b[0m\n\u001b[1;32m     27\u001b[0m         \u001b[0;31m# set node attribute defaults\u001b[0m\u001b[0;34m\u001b[0m\u001b[0;34m\u001b[0m\u001b[0;34m\u001b[0m\u001b[0m\n\u001b[1;32m     28\u001b[0m         \u001b[0;32mfor\u001b[0m \u001b[0mn\u001b[0m \u001b[0;32min\u001b[0m \u001b[0mself\u001b[0m\u001b[0;34m.\u001b[0m\u001b[0mnode_list\u001b[0m\u001b[0;34m:\u001b[0m\u001b[0;34m\u001b[0m\u001b[0;34m\u001b[0m\u001b[0m\n\u001b[0;32m---> 29\u001b[0;31m             \u001b[0mset_defaults\u001b[0m\u001b[0;34m(\u001b[0m\u001b[0mn\u001b[0m\u001b[0;34m)\u001b[0m\u001b[0;34m\u001b[0m\u001b[0;34m\u001b[0m\u001b[0m\n\u001b[0m\u001b[1;32m     30\u001b[0m         \u001b[0;31m# traverse tree and tag parents\u001b[0m\u001b[0;34m\u001b[0m\u001b[0;34m\u001b[0m\u001b[0;34m\u001b[0m\u001b[0m\n\u001b[1;32m     31\u001b[0m         \u001b[0m_\u001b[0m \u001b[0;34m=\u001b[0m \u001b[0mpre_order_n\u001b[0m\u001b[0;34m(\u001b[0m\u001b[0mself\u001b[0m\u001b[0;34m.\u001b[0m\u001b[0mroot_node\u001b[0m\u001b[0;34m,\u001b[0m \u001b[0mtag_parent\u001b[0m\u001b[0;34m)\u001b[0m\u001b[0;34m\u001b[0m\u001b[0;34m\u001b[0m\u001b[0m\n",
      "\u001b[0;31mTypeError\u001b[0m: set_defaults() missing 1 required positional argument: 'parent'"
     ]
    }
   ],
   "source": [
    "print(len(ports))\n",
    "for i, (lcost, port_group, bus_mappings) in enumerate(pg_bus_mappings):\n",
    "    #if i != 20:\n",
    "    #    continue\n",
    "    print('port_group', i)\n",
    "    print('  - port_group size', len(port_group))\n",
    "    for j, bus_mapping in enumerate(bus_mappings):\n",
    "        cost, fcost, mapping, match_cost_func, bus_def = bus_mapping\n",
    "        print('  - cost {}, fcost {}, bus_abstract {}'.format(\n",
    "            cost,\n",
    "            fcost,\n",
    "            bus_def.abstract_type\n",
    "        ))\n",
    "        \n",
    "    #best_mapping = bus_mappings[0]\n",
    "    #abxportinf.debug_bus_mapping(port_group, best_mapping)\n",
    "    \n",
    "    #if lcost.dc != 0:\n",
    "    #    continue\n",
    "    #best_mapping = bus_mappings[0]\n",
    "    #abxportinf.debug_bus_mapping(port_group, best_mapping)"
   ]
  },
  {
   "cell_type": "code",
   "execution_count": 66,
   "metadata": {},
   "outputs": [
    {
     "name": "stdout",
     "output_type": "stream",
     "text": [
      "port group size 296\n",
      "bus def num req 9\n",
      "bus def num opt 13\n",
      "total time: 11.052737474441528\n",
      "  - cost:4(n:4;w:False;d:False)    ('clk', 1, 1):('HCLK', 1, 1)\n",
      "  - cost:4(n:4;w:False;d:False)    ('phy_reg_command_ready', 1, 1):('HREADY', 1, 1)\n",
      "  - cost:4(n:4;w:False;d:False)    ('phy_reg_write', 1, -1):('HWRITE', 1, -1)\n",
      "  - cost:5(n:4;w:True;d:False)    ('dfi_wrlvl_resp', 9, 1):('HRESP', None, 1)\n",
      "  - cost:5(n:4;w:True;d:False)    ('phy_reg_addr', None, -1):('HADDR', 32, -1)\n",
      "  - cost:5(n:5;w:False;d:False)    ('axi0_ARESETn', 1, 1):('HRESETn', 1, 1)\n",
      "  - cost:6(n:5;w:True;d:False)    ('dfi_rddata_cs_n_0', 2, -1):('HWDATA', None, -1)\n",
      "  - cost:6(n:4;w:True;d:True)    ('dfi_wrdata_cs_n_0', 2, -1):('HRDATA', None, 1)\n",
      "  - cost:6(n:6;w:False;d:False)    ('dfi_phyupd_ack', 1, -1):('HLOCK', 1, -1)\n",
      "  - cost:7(n:6;w:True;d:False)    ('dll_rst_n', 1, -1):('HBURST', 3, -1)\n",
      "  - cost:7(n:7;w:False;d:False)    ('dfi_bank_p1', 3, -1):('HSIZE', 3, -1)\n",
      "  - cost:7(n:6;w:True;d:False)    ('dfi_ras_n_p1', 1, -1):('HTRANS', 2, -1)\n",
      "  - cost:7(n:7;w:False;d:False)    ('dfi_ctrlupd_ack', 1, 1):('HCLKEN', 1, 1)\n",
      "  - cost:7(n:6;w:True;d:False)    ('mem_rst_valid', 1, -1):('HPROT', None, -1)\n",
      "  - cost:7(n:7;w:False;d:False)    ('dfi_ctrlupd_req', 1, -1):('HBUSREQ', 1, -1)\n",
      "  - cost:7(n:7;w:False;d:False)    ('rst_n', 1, 1):('HGRANT', 1, 1)\n",
      "  - cost:7(n:5;w:True;d:True)    ('lp_ext_cmd_strb', 1, 1):('HBSTRB', None, -1)\n",
      "  - cost:8(n:7;w:True;d:False)    ('dfi_lvl_pattern_0', 4, -1):('HAUSER', None, -1)\n",
      "  - cost:8(n:7;w:True;d:False)    ('dfi_phy_rdlvl_gate_cs0_n', 2, 1):('HMASTER', None, 1)\n",
      "  - cost:8(n:7;w:True;d:False)    ('dfi_rdlvl_resp', 9, 1):('HRUSER', None, 1)\n",
      "  - cost:8(n:7;w:True;d:False)    ('dfi_reset_n_p1', 2, -1):('HWUSER', None, -1)\n",
      "  - cost:9(n:8;w:True;d:False)    ('phy_reg_mask', 4, -1):('HMASTLOCK', 1, -1)\n"
     ]
    }
   ],
   "source": [
    "#%load_ext line_profiler\n",
    "\n",
    "dbus_def = bus_defs[0]\n",
    "print('port group size', len(ports))\n",
    "print('bus def num req', dbus_def.num_req_ports)\n",
    "print('bus def num opt', dbus_def.num_opt_ports)\n",
    "\n",
    "stime = time.time()\n",
    "res = abxportinf._optimize.map_ports_to_bus(ports, dbus_def)\n",
    "etime = time.time()\n",
    "print('total time:', etime-stime)\n",
    "\n",
    "_, mapping, match_cost_func = res\n",
    "for cost, (pp, bp) in sorted(map(\n",
    "    lambda x: (match_cost_func(x[0], x[1]), (x[0], x[1])),\n",
    "    mapping.items()\n",
    ")):\n",
    "    print('  - cost:{}    {}:{}'.format(cost, pp, bp))\n",
    "#%lprun -f map_ports_to_bus map_ports_to_bus(dport_group, dbus_def)"
   ]
  },
  {
   "cell_type": "code",
   "execution_count": 44,
   "metadata": {},
   "outputs": [
    {
     "name": "stdout",
     "output_type": "stream",
     "text": [
      "  - cost:4(n:4;w:False;d:False)    ('clk', 1, 1):('HCLK', 1, 1)\n",
      "  - cost:4(n:4;w:False;d:False)    ('phy_reg_command_ready', 1, 1):('HREADY', 1, 1)\n",
      "  - cost:4(n:4;w:False;d:False)    ('phy_reg_write', 1, -1):('HWRITE', 1, -1)\n",
      "  - cost:5(n:4;w:True;d:False)    ('dfi_wrlvl_resp', 9, 1):('HRESP', None, 1)\n",
      "  - cost:5(n:4;w:True;d:False)    ('phy_reg_addr', None, -1):('HADDR', 32, -1)\n",
      "  - cost:5(n:5;w:False;d:False)    ('axi0_ARESETn', 1, 1):('HRESETn', 1, 1)\n",
      "  - cost:6(n:5;w:True;d:False)    ('dfi_rddata_cs_n_0', 2, -1):('HWDATA', None, -1)\n",
      "  - cost:6(n:4;w:True;d:True)    ('dfi_wrdata_cs_n_0', 2, -1):('HRDATA', None, 1)\n",
      "  - cost:6(n:6;w:False;d:False)    ('dfi_phyupd_ack', 1, -1):('HLOCK', 1, -1)\n",
      "  - cost:7(n:6;w:True;d:False)    ('dll_rst_n', 1, -1):('HBURST', 3, -1)\n",
      "  - cost:7(n:7;w:False;d:False)    ('dfi_bank_p1', 3, -1):('HSIZE', 3, -1)\n",
      "  - cost:7(n:6;w:True;d:False)    ('dfi_ras_n_p1', 1, -1):('HTRANS', 2, -1)\n",
      "  - cost:7(n:7;w:False;d:False)    ('dfi_ctrlupd_ack', 1, 1):('HCLKEN', 1, 1)\n",
      "  - cost:7(n:6;w:True;d:False)    ('mem_rst_valid', 1, -1):('HPROT', None, -1)\n",
      "  - cost:7(n:7;w:False;d:False)    ('dfi_ctrlupd_req', 1, -1):('HBUSREQ', 1, -1)\n",
      "  - cost:7(n:7;w:False;d:False)    ('rst_n', 1, 1):('HGRANT', 1, 1)\n",
      "  - cost:7(n:5;w:True;d:True)    ('lp_ext_cmd_strb', 1, 1):('HBSTRB', None, -1)\n",
      "  - cost:8(n:7;w:True;d:False)    ('dfi_lvl_pattern_0', 4, -1):('HAUSER', None, -1)\n",
      "  - cost:8(n:7;w:True;d:False)    ('dfi_phy_rdlvl_gate_cs0_n', 2, 1):('HMASTER', None, 1)\n",
      "  - cost:8(n:7;w:True;d:False)    ('dfi_rdlvl_resp', 9, 1):('HRUSER', None, 1)\n",
      "  - cost:8(n:7;w:True;d:False)    ('dfi_reset_n_p1', 2, -1):('HWUSER', None, -1)\n",
      "  - cost:9(n:8;w:True;d:False)    ('phy_reg_mask', 4, -1):('HMASTLOCK', 1, -1)\n"
     ]
    }
   ],
   "source": [
    "_, mapping, match_cost_func = res\n",
    "for cost, (pp, bp) in sorted(map(\n",
    "    lambda x: (match_cost_func(x[0], x[1]), (x[0], x[1])),\n",
    "    mapping.items()\n",
    ")):\n",
    "    print('  - cost:{}    {}:{}'.format(cost, pp, bp))"
   ]
  }
 ],
 "metadata": {
  "kernelspec": {
   "display_name": "Python 3",
   "language": "python",
   "name": "python3"
  },
  "language_info": {
   "codemirror_mode": {
    "name": "ipython",
    "version": 3
   },
   "file_extension": ".py",
   "mimetype": "text/x-python",
   "name": "python",
   "nbconvert_exporter": "python",
   "pygments_lexer": "ipython3",
   "version": "3.6.7"
  }
 },
 "nbformat": 4,
 "nbformat_minor": 2
}
